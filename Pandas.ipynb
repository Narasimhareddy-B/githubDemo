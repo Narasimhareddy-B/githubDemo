{
 "cells": [
  {
   "cell_type": "code",
   "execution_count": 86,
   "id": "dc832c1a",
   "metadata": {},
   "outputs": [],
   "source": [
    "import pandas as pd\n",
    "import numpy as np"
   ]
  },
  {
   "cell_type": "code",
   "execution_count": 13,
   "id": "bb6f9dbb",
   "metadata": {},
   "outputs": [
    {
     "name": "stdout",
     "output_type": "stream",
     "text": [
      "0    1.2\n",
      "1    2.4\n",
      "2    3.4\n",
      "3    4.4\n",
      "4    5.5\n",
      "5    6.9\n",
      "dtype: float64\n"
     ]
    }
   ],
   "source": [
    "srs=pd.Series([1.2,2.4,3.4,4.4,5.5,6.9])\n",
    "print(srs)"
   ]
  },
  {
   "cell_type": "code",
   "execution_count": 14,
   "id": "331130ad",
   "metadata": {},
   "outputs": [
    {
     "name": "stdout",
     "output_type": "stream",
     "text": [
      "The Series values are:\n",
      "[1.2 2.4 3.4 4.4 5.5 6.9]\n",
      "[0 1 2 3 4 5]\n"
     ]
    }
   ],
   "source": [
    "print('The Series values are:')\n",
    "print(srs.values)\n",
    "print(srs.index.values)"
   ]
  },
  {
   "cell_type": "code",
   "execution_count": 15,
   "id": "3bfefcc0",
   "metadata": {},
   "outputs": [
    {
     "name": "stdout",
     "output_type": "stream",
     "text": [
      "The seris index values are:\n",
      "[0 1 2 3 4 5]\n"
     ]
    }
   ],
   "source": [
    "print('The seris index values are:')\n",
    "print(srs.index.values)"
   ]
  },
  {
   "cell_type": "code",
   "execution_count": 16,
   "id": "995b0658",
   "metadata": {},
   "outputs": [],
   "source": [
    "srs=pd.Series([11.9,36.0,20.0,34.0,19.5],index=['England','India','USA','Russia','Australia'])"
   ]
  },
  {
   "cell_type": "code",
   "execution_count": 19,
   "id": "4eea21b1",
   "metadata": {},
   "outputs": [],
   "source": [
    "srs.name=\"Population\"\n",
    "srs.index.name='Country Name'"
   ]
  },
  {
   "cell_type": "code",
   "execution_count": 20,
   "id": "0d278f28",
   "metadata": {},
   "outputs": [
    {
     "name": "stdout",
     "output_type": "stream",
     "text": [
      "The Indexed series values are :\n",
      "Country Name\n",
      "England      11.9\n",
      "India        36.0\n",
      "USA          20.0\n",
      "Russia       34.0\n",
      "Australia    19.5\n",
      "Name: Population, dtype: float64\n"
     ]
    }
   ],
   "source": [
    "print(\"The Indexed series values are :\")\n",
    "print(srs)"
   ]
  },
  {
   "cell_type": "code",
   "execution_count": 27,
   "id": "67c7a91c",
   "metadata": {},
   "outputs": [],
   "source": [
    "srs1=pd.Series([11.9,36.0,20.0,34.0,19.5],index=['England','India','USA','Russia','Australia'])\n",
    "srs2=pd.Series([20.3, 11.9, 36.0, 16.6, 21.8], index = ['Africa', 'India', 'Newzealand', 'Canada','Japan'])"
   ]
  },
  {
   "cell_type": "code",
   "execution_count": 28,
   "id": "b9bf7187",
   "metadata": {},
   "outputs": [
    {
     "name": "stdout",
     "output_type": "stream",
     "text": [
      "Country\n",
      "Africa            NaN\n",
      "Australia         NaN\n",
      "Canada            NaN\n",
      "England           NaN\n",
      "India         3.02521\n",
      "Japan             NaN\n",
      "Newzealand        NaN\n",
      "Russia            NaN\n",
      "USA               NaN\n",
      "Name: Resulatant Object, dtype: float64\n"
     ]
    }
   ],
   "source": [
    "srs=srs1/srs2\n",
    "srs.name='Resulatant Object'\n",
    "srs.index.name='Country'\n",
    "print(srs)"
   ]
  },
  {
   "cell_type": "code",
   "execution_count": 34,
   "id": "227fc889",
   "metadata": {},
   "outputs": [
    {
     "name": "stdout",
     "output_type": "stream",
     "text": [
      "The indexes that are assigned ‘True’ are Null:\n",
      "Country\n",
      "Africa         True\n",
      "Australia      True\n",
      "Canada         True\n",
      "England        True\n",
      "India         False\n",
      "Japan          True\n",
      "Newzealand     True\n",
      "Russia         True\n",
      "USA            True\n",
      "Name: Resulatant Object, dtype: bool\n",
      "Country\n",
      "Africa       NaN\n",
      "Australia    NaN\n",
      "Canada       NaN\n",
      "England      NaN\n",
      "Japan        NaN\n",
      "Newzealand   NaN\n",
      "Russia       NaN\n",
      "USA          NaN\n",
      "Name: Resulatant Object, dtype: float64\n"
     ]
    }
   ],
   "source": [
    "print(\"The indexes that are assigned ‘True’ are Null:\")\n",
    "print(pd.isnull(srs))\n",
    "print(srs[pd.isnull(srs)])"
   ]
  },
  {
   "cell_type": "code",
   "execution_count": 39,
   "id": "833beccc",
   "metadata": {},
   "outputs": [
    {
     "name": "stdout",
     "output_type": "stream",
     "text": [
      "\n",
      "The indexes that are assigned ‘True’ are not Null:\n",
      "Country\n",
      "Africa        False\n",
      "Australia     False\n",
      "Canada        False\n",
      "England       False\n",
      "India          True\n",
      "Japan         False\n",
      "Newzealand    False\n",
      "Russia        False\n",
      "USA           False\n",
      "Name: Resulatant Object, dtype: bool\n",
      "\n",
      "\n",
      "Not Null values in SRS series:\n",
      " Country\n",
      "India    3.02521\n",
      "Name: Resulatant Object, dtype: float64\n"
     ]
    }
   ],
   "source": [
    "print(\"\\nThe indexes that are assigned ‘True’ are not Null:\")\n",
    "print(pd.notnull(srs))\n",
    "print(\"\\n\\nNot Null values in SRS series:\\n\",srs[pd.notnull(srs)])"
   ]
  },
  {
   "cell_type": "code",
   "execution_count": 41,
   "id": "df9e9368",
   "metadata": {},
   "outputs": [
    {
     "name": "stdout",
     "output_type": "stream",
     "text": [
      "\n",
      "Indexes that satisfy the condition are:\n",
      "Series([], Name: Resulatant Object, dtype: float64)\n"
     ]
    }
   ],
   "source": [
    "print(\"\\nIndexes that satisfy the condition are:\")\n",
    "print(srs[srs==1.0])"
   ]
  },
  {
   "cell_type": "code",
   "execution_count": 42,
   "id": "097a5893",
   "metadata": {},
   "outputs": [
    {
     "name": "stdout",
     "output_type": "stream",
     "text": [
      "\n",
      "Indexes that satisfy the condition are:\n",
      "Country\n",
      "Africa            NaN\n",
      "Australia         NaN\n",
      "Canada            NaN\n",
      "England           NaN\n",
      "India         3.02521\n",
      "Japan             NaN\n",
      "Newzealand        NaN\n",
      "Russia            NaN\n",
      "USA               NaN\n",
      "Name: Resulatant Object, dtype: float64\n"
     ]
    }
   ],
   "source": [
    "print(\"\\nIndexes that satisfy the condition are:\")\n",
    "print(srs[srs!=1.0])"
   ]
  },
  {
   "cell_type": "code",
   "execution_count": 44,
   "id": "d2696523",
   "metadata": {},
   "outputs": [],
   "source": [
    "df=pd.read_csv('train.csv')\n"
   ]
  },
  {
   "cell_type": "code",
   "execution_count": 47,
   "id": "84f11e97",
   "metadata": {},
   "outputs": [
    {
     "data": {
      "text/html": [
       "<div>\n",
       "<style scoped>\n",
       "    .dataframe tbody tr th:only-of-type {\n",
       "        vertical-align: middle;\n",
       "    }\n",
       "\n",
       "    .dataframe tbody tr th {\n",
       "        vertical-align: top;\n",
       "    }\n",
       "\n",
       "    .dataframe thead th {\n",
       "        text-align: right;\n",
       "    }\n",
       "</style>\n",
       "<table border=\"1\" class=\"dataframe\">\n",
       "  <thead>\n",
       "    <tr style=\"text-align: right;\">\n",
       "      <th></th>\n",
       "      <th>User_ID</th>\n",
       "      <th>Product_ID</th>\n",
       "      <th>Gender</th>\n",
       "      <th>Age</th>\n",
       "      <th>Occupation</th>\n",
       "      <th>City_Category</th>\n",
       "      <th>Stay_In_Current_City_Years</th>\n",
       "      <th>Marital_Status</th>\n",
       "      <th>Product_Category_1</th>\n",
       "      <th>Product_Category_2</th>\n",
       "      <th>Product_Category_3</th>\n",
       "      <th>Purchase</th>\n",
       "    </tr>\n",
       "  </thead>\n",
       "  <tbody>\n",
       "    <tr>\n",
       "      <th>0</th>\n",
       "      <td>1000001</td>\n",
       "      <td>P00069042</td>\n",
       "      <td>F</td>\n",
       "      <td>0-17</td>\n",
       "      <td>10</td>\n",
       "      <td>A</td>\n",
       "      <td>2</td>\n",
       "      <td>0</td>\n",
       "      <td>3</td>\n",
       "      <td>NaN</td>\n",
       "      <td>NaN</td>\n",
       "      <td>8370</td>\n",
       "    </tr>\n",
       "    <tr>\n",
       "      <th>1</th>\n",
       "      <td>1000001</td>\n",
       "      <td>P00248942</td>\n",
       "      <td>F</td>\n",
       "      <td>0-17</td>\n",
       "      <td>10</td>\n",
       "      <td>A</td>\n",
       "      <td>2</td>\n",
       "      <td>0</td>\n",
       "      <td>1</td>\n",
       "      <td>6.0</td>\n",
       "      <td>14.0</td>\n",
       "      <td>15200</td>\n",
       "    </tr>\n",
       "    <tr>\n",
       "      <th>2</th>\n",
       "      <td>1000001</td>\n",
       "      <td>P00087842</td>\n",
       "      <td>F</td>\n",
       "      <td>0-17</td>\n",
       "      <td>10</td>\n",
       "      <td>A</td>\n",
       "      <td>2</td>\n",
       "      <td>0</td>\n",
       "      <td>12</td>\n",
       "      <td>NaN</td>\n",
       "      <td>NaN</td>\n",
       "      <td>1422</td>\n",
       "    </tr>\n",
       "    <tr>\n",
       "      <th>3</th>\n",
       "      <td>1000001</td>\n",
       "      <td>P00085442</td>\n",
       "      <td>F</td>\n",
       "      <td>0-17</td>\n",
       "      <td>10</td>\n",
       "      <td>A</td>\n",
       "      <td>2</td>\n",
       "      <td>0</td>\n",
       "      <td>12</td>\n",
       "      <td>14.0</td>\n",
       "      <td>NaN</td>\n",
       "      <td>1057</td>\n",
       "    </tr>\n",
       "    <tr>\n",
       "      <th>4</th>\n",
       "      <td>1000002</td>\n",
       "      <td>P00285442</td>\n",
       "      <td>M</td>\n",
       "      <td>55+</td>\n",
       "      <td>16</td>\n",
       "      <td>C</td>\n",
       "      <td>4+</td>\n",
       "      <td>0</td>\n",
       "      <td>8</td>\n",
       "      <td>NaN</td>\n",
       "      <td>NaN</td>\n",
       "      <td>7969</td>\n",
       "    </tr>\n",
       "    <tr>\n",
       "      <th>5</th>\n",
       "      <td>1000003</td>\n",
       "      <td>P00193542</td>\n",
       "      <td>M</td>\n",
       "      <td>26-35</td>\n",
       "      <td>15</td>\n",
       "      <td>A</td>\n",
       "      <td>3</td>\n",
       "      <td>0</td>\n",
       "      <td>1</td>\n",
       "      <td>2.0</td>\n",
       "      <td>NaN</td>\n",
       "      <td>15227</td>\n",
       "    </tr>\n",
       "    <tr>\n",
       "      <th>6</th>\n",
       "      <td>1000004</td>\n",
       "      <td>P00184942</td>\n",
       "      <td>M</td>\n",
       "      <td>46-50</td>\n",
       "      <td>7</td>\n",
       "      <td>B</td>\n",
       "      <td>2</td>\n",
       "      <td>1</td>\n",
       "      <td>1</td>\n",
       "      <td>8.0</td>\n",
       "      <td>17.0</td>\n",
       "      <td>19215</td>\n",
       "    </tr>\n",
       "    <tr>\n",
       "      <th>7</th>\n",
       "      <td>1000004</td>\n",
       "      <td>P00346142</td>\n",
       "      <td>M</td>\n",
       "      <td>46-50</td>\n",
       "      <td>7</td>\n",
       "      <td>B</td>\n",
       "      <td>2</td>\n",
       "      <td>1</td>\n",
       "      <td>1</td>\n",
       "      <td>15.0</td>\n",
       "      <td>NaN</td>\n",
       "      <td>15854</td>\n",
       "    </tr>\n",
       "    <tr>\n",
       "      <th>8</th>\n",
       "      <td>1000004</td>\n",
       "      <td>P0097242</td>\n",
       "      <td>M</td>\n",
       "      <td>46-50</td>\n",
       "      <td>7</td>\n",
       "      <td>B</td>\n",
       "      <td>2</td>\n",
       "      <td>1</td>\n",
       "      <td>1</td>\n",
       "      <td>16.0</td>\n",
       "      <td>NaN</td>\n",
       "      <td>15686</td>\n",
       "    </tr>\n",
       "    <tr>\n",
       "      <th>9</th>\n",
       "      <td>1000005</td>\n",
       "      <td>P00274942</td>\n",
       "      <td>M</td>\n",
       "      <td>26-35</td>\n",
       "      <td>20</td>\n",
       "      <td>A</td>\n",
       "      <td>1</td>\n",
       "      <td>1</td>\n",
       "      <td>8</td>\n",
       "      <td>NaN</td>\n",
       "      <td>NaN</td>\n",
       "      <td>7871</td>\n",
       "    </tr>\n",
       "    <tr>\n",
       "      <th>10</th>\n",
       "      <td>1000005</td>\n",
       "      <td>P00251242</td>\n",
       "      <td>M</td>\n",
       "      <td>26-35</td>\n",
       "      <td>20</td>\n",
       "      <td>A</td>\n",
       "      <td>1</td>\n",
       "      <td>1</td>\n",
       "      <td>5</td>\n",
       "      <td>11.0</td>\n",
       "      <td>NaN</td>\n",
       "      <td>5254</td>\n",
       "    </tr>\n",
       "    <tr>\n",
       "      <th>11</th>\n",
       "      <td>1000005</td>\n",
       "      <td>P00014542</td>\n",
       "      <td>M</td>\n",
       "      <td>26-35</td>\n",
       "      <td>20</td>\n",
       "      <td>A</td>\n",
       "      <td>1</td>\n",
       "      <td>1</td>\n",
       "      <td>8</td>\n",
       "      <td>NaN</td>\n",
       "      <td>NaN</td>\n",
       "      <td>3957</td>\n",
       "    </tr>\n",
       "    <tr>\n",
       "      <th>12</th>\n",
       "      <td>1000005</td>\n",
       "      <td>P00031342</td>\n",
       "      <td>M</td>\n",
       "      <td>26-35</td>\n",
       "      <td>20</td>\n",
       "      <td>A</td>\n",
       "      <td>1</td>\n",
       "      <td>1</td>\n",
       "      <td>8</td>\n",
       "      <td>NaN</td>\n",
       "      <td>NaN</td>\n",
       "      <td>6073</td>\n",
       "    </tr>\n",
       "    <tr>\n",
       "      <th>13</th>\n",
       "      <td>1000005</td>\n",
       "      <td>P00145042</td>\n",
       "      <td>M</td>\n",
       "      <td>26-35</td>\n",
       "      <td>20</td>\n",
       "      <td>A</td>\n",
       "      <td>1</td>\n",
       "      <td>1</td>\n",
       "      <td>1</td>\n",
       "      <td>2.0</td>\n",
       "      <td>5.0</td>\n",
       "      <td>15665</td>\n",
       "    </tr>\n",
       "    <tr>\n",
       "      <th>14</th>\n",
       "      <td>1000006</td>\n",
       "      <td>P00231342</td>\n",
       "      <td>F</td>\n",
       "      <td>51-55</td>\n",
       "      <td>9</td>\n",
       "      <td>A</td>\n",
       "      <td>1</td>\n",
       "      <td>0</td>\n",
       "      <td>5</td>\n",
       "      <td>8.0</td>\n",
       "      <td>14.0</td>\n",
       "      <td>5378</td>\n",
       "    </tr>\n",
       "  </tbody>\n",
       "</table>\n",
       "</div>"
      ],
      "text/plain": [
       "    User_ID Product_ID Gender    Age  Occupation City_Category  \\\n",
       "0   1000001  P00069042      F   0-17          10             A   \n",
       "1   1000001  P00248942      F   0-17          10             A   \n",
       "2   1000001  P00087842      F   0-17          10             A   \n",
       "3   1000001  P00085442      F   0-17          10             A   \n",
       "4   1000002  P00285442      M    55+          16             C   \n",
       "5   1000003  P00193542      M  26-35          15             A   \n",
       "6   1000004  P00184942      M  46-50           7             B   \n",
       "7   1000004  P00346142      M  46-50           7             B   \n",
       "8   1000004   P0097242      M  46-50           7             B   \n",
       "9   1000005  P00274942      M  26-35          20             A   \n",
       "10  1000005  P00251242      M  26-35          20             A   \n",
       "11  1000005  P00014542      M  26-35          20             A   \n",
       "12  1000005  P00031342      M  26-35          20             A   \n",
       "13  1000005  P00145042      M  26-35          20             A   \n",
       "14  1000006  P00231342      F  51-55           9             A   \n",
       "\n",
       "   Stay_In_Current_City_Years  Marital_Status  Product_Category_1  \\\n",
       "0                           2               0                   3   \n",
       "1                           2               0                   1   \n",
       "2                           2               0                  12   \n",
       "3                           2               0                  12   \n",
       "4                          4+               0                   8   \n",
       "5                           3               0                   1   \n",
       "6                           2               1                   1   \n",
       "7                           2               1                   1   \n",
       "8                           2               1                   1   \n",
       "9                           1               1                   8   \n",
       "10                          1               1                   5   \n",
       "11                          1               1                   8   \n",
       "12                          1               1                   8   \n",
       "13                          1               1                   1   \n",
       "14                          1               0                   5   \n",
       "\n",
       "    Product_Category_2  Product_Category_3  Purchase  \n",
       "0                  NaN                 NaN      8370  \n",
       "1                  6.0                14.0     15200  \n",
       "2                  NaN                 NaN      1422  \n",
       "3                 14.0                 NaN      1057  \n",
       "4                  NaN                 NaN      7969  \n",
       "5                  2.0                 NaN     15227  \n",
       "6                  8.0                17.0     19215  \n",
       "7                 15.0                 NaN     15854  \n",
       "8                 16.0                 NaN     15686  \n",
       "9                  NaN                 NaN      7871  \n",
       "10                11.0                 NaN      5254  \n",
       "11                 NaN                 NaN      3957  \n",
       "12                 NaN                 NaN      6073  \n",
       "13                 2.0                 5.0     15665  \n",
       "14                 8.0                14.0      5378  "
      ]
     },
     "execution_count": 47,
     "metadata": {},
     "output_type": "execute_result"
    }
   ],
   "source": [
    "df.head(15)"
   ]
  },
  {
   "cell_type": "code",
   "execution_count": 51,
   "id": "c130214f",
   "metadata": {},
   "outputs": [
    {
     "data": {
      "text/html": [
       "<div>\n",
       "<style scoped>\n",
       "    .dataframe tbody tr th:only-of-type {\n",
       "        vertical-align: middle;\n",
       "    }\n",
       "\n",
       "    .dataframe tbody tr th {\n",
       "        vertical-align: top;\n",
       "    }\n",
       "\n",
       "    .dataframe thead th {\n",
       "        text-align: right;\n",
       "    }\n",
       "</style>\n",
       "<table border=\"1\" class=\"dataframe\">\n",
       "  <thead>\n",
       "    <tr style=\"text-align: right;\">\n",
       "      <th></th>\n",
       "      <th>User_ID</th>\n",
       "      <th>Product_ID</th>\n",
       "      <th>Gender</th>\n",
       "      <th>Age</th>\n",
       "      <th>Occupation</th>\n",
       "      <th>City_Category</th>\n",
       "      <th>Stay_In_Current_City_Years</th>\n",
       "      <th>Marital_Status</th>\n",
       "      <th>Product_Category_1</th>\n",
       "      <th>Product_Category_2</th>\n",
       "      <th>Product_Category_3</th>\n",
       "      <th>Purchase</th>\n",
       "    </tr>\n",
       "  </thead>\n",
       "  <tbody>\n",
       "    <tr>\n",
       "      <th>550063</th>\n",
       "      <td>1006033</td>\n",
       "      <td>P00372445</td>\n",
       "      <td>M</td>\n",
       "      <td>51-55</td>\n",
       "      <td>13</td>\n",
       "      <td>B</td>\n",
       "      <td>1</td>\n",
       "      <td>1</td>\n",
       "      <td>20</td>\n",
       "      <td>NaN</td>\n",
       "      <td>NaN</td>\n",
       "      <td>368</td>\n",
       "    </tr>\n",
       "    <tr>\n",
       "      <th>550064</th>\n",
       "      <td>1006035</td>\n",
       "      <td>P00375436</td>\n",
       "      <td>F</td>\n",
       "      <td>26-35</td>\n",
       "      <td>1</td>\n",
       "      <td>C</td>\n",
       "      <td>3</td>\n",
       "      <td>0</td>\n",
       "      <td>20</td>\n",
       "      <td>NaN</td>\n",
       "      <td>NaN</td>\n",
       "      <td>371</td>\n",
       "    </tr>\n",
       "    <tr>\n",
       "      <th>550065</th>\n",
       "      <td>1006036</td>\n",
       "      <td>P00375436</td>\n",
       "      <td>F</td>\n",
       "      <td>26-35</td>\n",
       "      <td>15</td>\n",
       "      <td>B</td>\n",
       "      <td>4+</td>\n",
       "      <td>1</td>\n",
       "      <td>20</td>\n",
       "      <td>NaN</td>\n",
       "      <td>NaN</td>\n",
       "      <td>137</td>\n",
       "    </tr>\n",
       "    <tr>\n",
       "      <th>550066</th>\n",
       "      <td>1006038</td>\n",
       "      <td>P00375436</td>\n",
       "      <td>F</td>\n",
       "      <td>55+</td>\n",
       "      <td>1</td>\n",
       "      <td>C</td>\n",
       "      <td>2</td>\n",
       "      <td>0</td>\n",
       "      <td>20</td>\n",
       "      <td>NaN</td>\n",
       "      <td>NaN</td>\n",
       "      <td>365</td>\n",
       "    </tr>\n",
       "    <tr>\n",
       "      <th>550067</th>\n",
       "      <td>1006039</td>\n",
       "      <td>P00371644</td>\n",
       "      <td>F</td>\n",
       "      <td>46-50</td>\n",
       "      <td>0</td>\n",
       "      <td>B</td>\n",
       "      <td>4+</td>\n",
       "      <td>1</td>\n",
       "      <td>20</td>\n",
       "      <td>NaN</td>\n",
       "      <td>NaN</td>\n",
       "      <td>490</td>\n",
       "    </tr>\n",
       "  </tbody>\n",
       "</table>\n",
       "</div>"
      ],
      "text/plain": [
       "        User_ID Product_ID Gender    Age  Occupation City_Category  \\\n",
       "550063  1006033  P00372445      M  51-55          13             B   \n",
       "550064  1006035  P00375436      F  26-35           1             C   \n",
       "550065  1006036  P00375436      F  26-35          15             B   \n",
       "550066  1006038  P00375436      F    55+           1             C   \n",
       "550067  1006039  P00371644      F  46-50           0             B   \n",
       "\n",
       "       Stay_In_Current_City_Years  Marital_Status  Product_Category_1  \\\n",
       "550063                          1               1                  20   \n",
       "550064                          3               0                  20   \n",
       "550065                         4+               1                  20   \n",
       "550066                          2               0                  20   \n",
       "550067                         4+               1                  20   \n",
       "\n",
       "        Product_Category_2  Product_Category_3  Purchase  \n",
       "550063                 NaN                 NaN       368  \n",
       "550064                 NaN                 NaN       371  \n",
       "550065                 NaN                 NaN       137  \n",
       "550066                 NaN                 NaN       365  \n",
       "550067                 NaN                 NaN       490  "
      ]
     },
     "execution_count": 51,
     "metadata": {},
     "output_type": "execute_result"
    }
   ],
   "source": [
    "df.tail()"
   ]
  },
  {
   "cell_type": "code",
   "execution_count": 50,
   "id": "a5323d5e",
   "metadata": {},
   "outputs": [
    {
     "data": {
      "text/plain": [
       "Index(['User_ID', 'Product_ID', 'Gender', 'Age', 'Occupation', 'City_Category',\n",
       "       'Stay_In_Current_City_Years', 'Marital_Status', 'Product_Category_1',\n",
       "       'Product_Category_2', 'Product_Category_3', 'Purchase'],\n",
       "      dtype='object')"
      ]
     },
     "execution_count": 50,
     "metadata": {},
     "output_type": "execute_result"
    }
   ],
   "source": [
    "df.columns"
   ]
  },
  {
   "cell_type": "code",
   "execution_count": 21,
   "id": "006e395c",
   "metadata": {},
   "outputs": [
    {
     "name": "stdout",
     "output_type": "stream",
     "text": [
      "0    A\n",
      "1    A\n",
      "2    A\n",
      "3    A\n",
      "4    C\n",
      "5    A\n",
      "6    B\n",
      "7    B\n",
      "8    B\n",
      "9    A\n",
      "Name: City_Category, dtype: object\n"
     ]
    }
   ],
   "source": [
    "print(df['City_Category'].head(10))"
   ]
  },
  {
   "cell_type": "code",
   "execution_count": 52,
   "id": "17989932",
   "metadata": {},
   "outputs": [
    {
     "data": {
      "text/plain": [
       "array(['A', 'C', 'B'], dtype=object)"
      ]
     },
     "execution_count": 52,
     "metadata": {},
     "output_type": "execute_result"
    }
   ],
   "source": [
    "df['City_Category'].unique()"
   ]
  },
  {
   "cell_type": "code",
   "execution_count": 61,
   "id": "a4758575",
   "metadata": {},
   "outputs": [
    {
     "name": "stdout",
     "output_type": "stream",
     "text": [
      "   User_ID Product_ID Gender   Age  Occupation\n",
      "0  1000001  P00069042      F  0-17          10\n",
      "1  1000001  P00248942      F  0-17          10\n",
      "2  1000001  P00087842      F  0-17          10\n",
      "3  1000001  P00085442      F  0-17          10\n",
      "4  1000002  P00285442      M   55+          16\n",
      "\n",
      "\n",
      " 0    10\n",
      "1    10\n",
      "2    10\n",
      "3    10\n",
      "4    16\n",
      "Name: Occupation, dtype: int64\n"
     ]
    }
   ],
   "source": [
    "new_srs=pd.Series(df['Occupation'])\n",
    "new_df=pd.DataFrame(df,columns=['User_ID', 'Product_ID', 'Gender', 'Age', 'Occupation'])\n",
    "print(new_df.head())\n",
    "print('\\n\\n',new_srs.head())"
   ]
  },
  {
   "cell_type": "code",
   "execution_count": 69,
   "id": "c8f0874e",
   "metadata": {},
   "outputs": [
    {
     "data": {
      "text/html": [
       "<div>\n",
       "<style scoped>\n",
       "    .dataframe tbody tr th:only-of-type {\n",
       "        vertical-align: middle;\n",
       "    }\n",
       "\n",
       "    .dataframe tbody tr th {\n",
       "        vertical-align: top;\n",
       "    }\n",
       "\n",
       "    .dataframe thead th {\n",
       "        text-align: right;\n",
       "    }\n",
       "</style>\n",
       "<table border=\"1\" class=\"dataframe\">\n",
       "  <thead>\n",
       "    <tr style=\"text-align: right;\">\n",
       "      <th></th>\n",
       "      <th>User_ID</th>\n",
       "      <th>Gender</th>\n",
       "    </tr>\n",
       "  </thead>\n",
       "  <tbody>\n",
       "    <tr>\n",
       "      <th>0</th>\n",
       "      <td>1000001</td>\n",
       "      <td>F</td>\n",
       "    </tr>\n",
       "    <tr>\n",
       "      <th>1</th>\n",
       "      <td>1000001</td>\n",
       "      <td>F</td>\n",
       "    </tr>\n",
       "    <tr>\n",
       "      <th>2</th>\n",
       "      <td>1000001</td>\n",
       "      <td>F</td>\n",
       "    </tr>\n",
       "    <tr>\n",
       "      <th>3</th>\n",
       "      <td>1000001</td>\n",
       "      <td>F</td>\n",
       "    </tr>\n",
       "    <tr>\n",
       "      <th>4</th>\n",
       "      <td>1000002</td>\n",
       "      <td>M</td>\n",
       "    </tr>\n",
       "    <tr>\n",
       "      <th>5</th>\n",
       "      <td>1000003</td>\n",
       "      <td>M</td>\n",
       "    </tr>\n",
       "    <tr>\n",
       "      <th>6</th>\n",
       "      <td>1000004</td>\n",
       "      <td>M</td>\n",
       "    </tr>\n",
       "    <tr>\n",
       "      <th>7</th>\n",
       "      <td>1000004</td>\n",
       "      <td>M</td>\n",
       "    </tr>\n",
       "    <tr>\n",
       "      <th>8</th>\n",
       "      <td>1000004</td>\n",
       "      <td>M</td>\n",
       "    </tr>\n",
       "    <tr>\n",
       "      <th>9</th>\n",
       "      <td>1000005</td>\n",
       "      <td>M</td>\n",
       "    </tr>\n",
       "    <tr>\n",
       "      <th>10</th>\n",
       "      <td>1000005</td>\n",
       "      <td>M</td>\n",
       "    </tr>\n",
       "  </tbody>\n",
       "</table>\n",
       "</div>"
      ],
      "text/plain": [
       "    User_ID Gender\n",
       "0   1000001      F\n",
       "1   1000001      F\n",
       "2   1000001      F\n",
       "3   1000001      F\n",
       "4   1000002      M\n",
       "5   1000003      M\n",
       "6   1000004      M\n",
       "7   1000004      M\n",
       "8   1000004      M\n",
       "9   1000005      M\n",
       "10  1000005      M"
      ]
     },
     "execution_count": 69,
     "metadata": {},
     "output_type": "execute_result"
    }
   ],
   "source": [
    "new_df.loc[0:10,['User_ID','Gender']]"
   ]
  },
  {
   "cell_type": "code",
   "execution_count": 71,
   "id": "492e0e59",
   "metadata": {},
   "outputs": [
    {
     "data": {
      "text/plain": [
       "User_ID         1000002\n",
       "Product_ID    P00285442\n",
       "Gender                M\n",
       "Age                 55+\n",
       "Occupation           16\n",
       "Name: 4, dtype: object"
      ]
     },
     "execution_count": 71,
     "metadata": {},
     "output_type": "execute_result"
    }
   ],
   "source": [
    "new_df.loc[4]"
   ]
  },
  {
   "cell_type": "code",
   "execution_count": 72,
   "id": "32131f25",
   "metadata": {},
   "outputs": [
    {
     "data": {
      "text/html": [
       "<div>\n",
       "<style scoped>\n",
       "    .dataframe tbody tr th:only-of-type {\n",
       "        vertical-align: middle;\n",
       "    }\n",
       "\n",
       "    .dataframe tbody tr th {\n",
       "        vertical-align: top;\n",
       "    }\n",
       "\n",
       "    .dataframe thead th {\n",
       "        text-align: right;\n",
       "    }\n",
       "</style>\n",
       "<table border=\"1\" class=\"dataframe\">\n",
       "  <thead>\n",
       "    <tr style=\"text-align: right;\">\n",
       "      <th></th>\n",
       "      <th>User_ID</th>\n",
       "      <th>Name</th>\n",
       "      <th>Gender</th>\n",
       "      <th>Age</th>\n",
       "    </tr>\n",
       "  </thead>\n",
       "  <tbody>\n",
       "    <tr>\n",
       "      <th>0</th>\n",
       "      <td>1000001</td>\n",
       "      <td>NaN</td>\n",
       "      <td>F</td>\n",
       "      <td>0-17</td>\n",
       "    </tr>\n",
       "    <tr>\n",
       "      <th>1</th>\n",
       "      <td>1000001</td>\n",
       "      <td>NaN</td>\n",
       "      <td>F</td>\n",
       "      <td>0-17</td>\n",
       "    </tr>\n",
       "    <tr>\n",
       "      <th>2</th>\n",
       "      <td>1000001</td>\n",
       "      <td>NaN</td>\n",
       "      <td>F</td>\n",
       "      <td>0-17</td>\n",
       "    </tr>\n",
       "    <tr>\n",
       "      <th>3</th>\n",
       "      <td>1000001</td>\n",
       "      <td>NaN</td>\n",
       "      <td>F</td>\n",
       "      <td>0-17</td>\n",
       "    </tr>\n",
       "    <tr>\n",
       "      <th>4</th>\n",
       "      <td>1000002</td>\n",
       "      <td>NaN</td>\n",
       "      <td>M</td>\n",
       "      <td>55+</td>\n",
       "    </tr>\n",
       "    <tr>\n",
       "      <th>5</th>\n",
       "      <td>1000003</td>\n",
       "      <td>NaN</td>\n",
       "      <td>M</td>\n",
       "      <td>26-35</td>\n",
       "    </tr>\n",
       "    <tr>\n",
       "      <th>6</th>\n",
       "      <td>1000004</td>\n",
       "      <td>NaN</td>\n",
       "      <td>M</td>\n",
       "      <td>46-50</td>\n",
       "    </tr>\n",
       "    <tr>\n",
       "      <th>7</th>\n",
       "      <td>1000004</td>\n",
       "      <td>NaN</td>\n",
       "      <td>M</td>\n",
       "      <td>46-50</td>\n",
       "    </tr>\n",
       "    <tr>\n",
       "      <th>8</th>\n",
       "      <td>1000004</td>\n",
       "      <td>NaN</td>\n",
       "      <td>M</td>\n",
       "      <td>46-50</td>\n",
       "    </tr>\n",
       "    <tr>\n",
       "      <th>9</th>\n",
       "      <td>1000005</td>\n",
       "      <td>NaN</td>\n",
       "      <td>M</td>\n",
       "      <td>26-35</td>\n",
       "    </tr>\n",
       "  </tbody>\n",
       "</table>\n",
       "</div>"
      ],
      "text/plain": [
       "   User_ID  Name Gender    Age\n",
       "0  1000001   NaN      F   0-17\n",
       "1  1000001   NaN      F   0-17\n",
       "2  1000001   NaN      F   0-17\n",
       "3  1000001   NaN      F   0-17\n",
       "4  1000002   NaN      M    55+\n",
       "5  1000003   NaN      M  26-35\n",
       "6  1000004   NaN      M  46-50\n",
       "7  1000004   NaN      M  46-50\n",
       "8  1000004   NaN      M  46-50\n",
       "9  1000005   NaN      M  26-35"
      ]
     },
     "execution_count": 72,
     "metadata": {},
     "output_type": "execute_result"
    }
   ],
   "source": [
    "renew_df=pd.DataFrame(new_df,columns=['User_ID','Name', 'Gender', 'Age'])\n",
    "renew_df.head(10)"
   ]
  },
  {
   "cell_type": "code",
   "execution_count": 75,
   "id": "b7ee3f41",
   "metadata": {},
   "outputs": [
    {
     "name": "stdout",
     "output_type": "stream",
     "text": [
      "India       36.0\n",
      "Malaysia     NaN\n",
      "USA         20.0\n",
      "Brazil       NaN\n",
      "Pakistan     NaN\n",
      "England     11.9\n",
      "dtype: float64\n"
     ]
    }
   ],
   "source": [
    "srs3=srs1.reindex(['India', 'Malaysia', 'USA', 'Brazil', 'Pakistan', 'England'])\n",
    "print(srs3)"
   ]
  },
  {
   "cell_type": "code",
   "execution_count": 74,
   "id": "57b8560c",
   "metadata": {},
   "outputs": [],
   "source": [
    "srs4=srs2.reindex(['India', 'Malaysia', 'USA', 'Brazil', 'Pakistan', 'England'],fill_value=0)"
   ]
  },
  {
   "cell_type": "code",
   "execution_count": 29,
   "id": "a630c9e7",
   "metadata": {},
   "outputs": [
    {
     "name": "stdout",
     "output_type": "stream",
     "text": [
      "India       0.0\n",
      "Malaysia    0.0\n",
      "USA         0.0\n",
      "Brazil      0.0\n",
      "Pakistan    0.0\n",
      "England     0.0\n",
      "dtype: float64\n"
     ]
    }
   ],
   "source": [
    "print(srs4)"
   ]
  },
  {
   "cell_type": "code",
   "execution_count": 30,
   "id": "8ec96519",
   "metadata": {},
   "outputs": [],
   "source": [
    "import numpy as np"
   ]
  },
  {
   "cell_type": "code",
   "execution_count": 31,
   "id": "b456a08a",
   "metadata": {},
   "outputs": [
    {
     "name": "stdout",
     "output_type": "stream",
     "text": [
      "[[ 0  1  2  3]\n",
      " [ 4  5  6  7]\n",
      " [ 8  9 10 11]\n",
      " [12 13 14 15]]\n"
     ]
    }
   ],
   "source": [
    "arr2D=np.arange(16).reshape(4,4)\n",
    "print(arr2D)"
   ]
  },
  {
   "cell_type": "code",
   "execution_count": 80,
   "id": "18bc334e",
   "metadata": {},
   "outputs": [],
   "source": [
    "df2=df.reindex(['Row0','Row1','Row2','Row'])"
   ]
  },
  {
   "cell_type": "code",
   "execution_count": 81,
   "id": "6b6e2004",
   "metadata": {},
   "outputs": [
    {
     "name": "stdout",
     "output_type": "stream",
     "text": [
      "      Column0  Column1  Column2  Column3  Column4\n",
      "Row0      NaN      NaN      NaN      NaN      NaN\n",
      "Row1      NaN      NaN      NaN      NaN      NaN\n",
      "Row2      NaN      NaN      NaN      NaN      NaN\n",
      "Row       NaN      NaN      NaN      NaN      NaN\n"
     ]
    }
   ],
   "source": [
    "df2=df2.reindex(columns=['Column0','Column1','Column2','Column3','Column4'])\n",
    "print(df2)"
   ]
  },
  {
   "cell_type": "code",
   "execution_count": 82,
   "id": "bb8ba460",
   "metadata": {},
   "outputs": [
    {
     "name": "stdout",
     "output_type": "stream",
     "text": [
      "England      11.9\n",
      "India        36.0\n",
      "USA          20.0\n",
      "Russia       34.0\n",
      "Australia    19.5\n",
      "dtype: float64\n",
      "India       36.0\n",
      "Malaysia     NaN\n",
      "USA         20.0\n",
      "Brazil       NaN\n",
      "Pakistan     NaN\n",
      "England     11.9\n",
      "dtype: float64\n",
      "\n",
      "Forward Filled Series :\n",
      " India       36.0\n",
      "Malaysia    36.0\n",
      "USA         20.0\n",
      "Brazil      20.0\n",
      "Pakistan    20.0\n",
      "England     11.9\n",
      "dtype: float64\n"
     ]
    }
   ],
   "source": [
    "print(srs1)\n",
    "srs3=srs1.reindex(['India', 'Malaysia', 'USA', 'Brazil', 'Pakistan', 'England'])\n",
    "print(srs3)\n",
    "print(\"\\nForward Filled Series :\\n\",srs3.ffill())"
   ]
  },
  {
   "cell_type": "code",
   "execution_count": 83,
   "id": "af22915f",
   "metadata": {},
   "outputs": [
    {
     "name": "stdout",
     "output_type": "stream",
     "text": [
      "      Column0  Column1  Column2  Column3  Column4\n",
      "Row0      NaN      NaN      NaN      NaN      NaN\n",
      "Row1      NaN      NaN      NaN      NaN      NaN\n",
      "Row2      NaN      NaN      NaN      NaN      NaN\n",
      "Row       NaN      NaN      NaN      NaN      NaN\n",
      "Forward Filled DataFrame:\n",
      " (rowwise:Top to Bottom)       Column0  Column1  Column2  Column3  Column4\n",
      "Row0      NaN      NaN      NaN      NaN      NaN\n",
      "Row1      NaN      NaN      NaN      NaN      NaN\n",
      "Row2      NaN      NaN      NaN      NaN      NaN\n",
      "Row       NaN      NaN      NaN      NaN      NaN\n"
     ]
    }
   ],
   "source": [
    "print(df2)\n",
    "print(\"Forward Filled DataFrame:\\n (rowwise:Top to Bottom)\",df2.ffill(axis=0))"
   ]
  },
  {
   "cell_type": "code",
   "execution_count": 84,
   "id": "80f669e1",
   "metadata": {},
   "outputs": [
    {
     "name": "stdout",
     "output_type": "stream",
     "text": [
      "      Column1  Column2  Column0  Column3  Column4\n",
      "Row1      NaN      NaN      NaN      NaN      NaN\n",
      "Row2      NaN      NaN      NaN      NaN      NaN\n",
      "Row0      NaN      NaN      NaN      NaN      NaN\n",
      "Row       NaN      NaN      NaN      NaN      NaN \n",
      "\n",
      "Forward Filled DataFrame: (Column-Wise: Left to Right)\n",
      "       Column1  Column2  Column0  Column3  Column4\n",
      "Row1      NaN      NaN      NaN      NaN      NaN\n",
      "Row2      NaN      NaN      NaN      NaN      NaN\n",
      "Row0      NaN      NaN      NaN      NaN      NaN\n",
      "Row       NaN      NaN      NaN      NaN      NaN\n"
     ]
    }
   ],
   "source": [
    "df2=df2.reindex(index=['Row1','Row2','Row0','Row'],columns=['Column1','Column2','Column0','Column3','Column4'])\n",
    "print(df2,'\\n')\n",
    "print(\"Forward Filled DataFrame: (Column-Wise: Left to Right)\\n\", df2.ffill(axis=1))"
   ]
  },
  {
   "cell_type": "code",
   "execution_count": 87,
   "id": "1912a7da",
   "metadata": {},
   "outputs": [
    {
     "name": "stdout",
     "output_type": "stream",
     "text": [
      "[[ 0  1  2  3  4]\n",
      " [ 5  6  7  8  9]\n",
      " [10 11 12 13 14]\n",
      " [15 16 17 18 19]]\n"
     ]
    }
   ],
   "source": [
    "arr2D=np.arange(20).reshape(4,5)\n",
    "print(arr2D)"
   ]
  },
  {
   "cell_type": "code",
   "execution_count": 88,
   "id": "eeaeeb19",
   "metadata": {},
   "outputs": [
    {
     "name": "stdout",
     "output_type": "stream",
     "text": [
      "    C1  C2  C3  C4  C5\n",
      "R0   0   1   2   3   4\n",
      "R2   5   6   7   8   9\n",
      "R1  10  11  12  13  14\n",
      "R3  15  16  17  18  19\n"
     ]
    }
   ],
   "source": [
    "df=pd.DataFrame(arr2D,index=['R0','R2','R1','R3'],columns=['C1','C2','C3','C4','C5'])\n",
    "print(df)"
   ]
  },
  {
   "cell_type": "code",
   "execution_count": 93,
   "id": "32751d1d",
   "metadata": {},
   "outputs": [],
   "source": [
    "df1=df.reindex(index=['R0','R1','R3','R4'],columns=['C1','C2','C3','C4','C5'])"
   ]
  },
  {
   "cell_type": "code",
   "execution_count": 94,
   "id": "9cfc07eb",
   "metadata": {},
   "outputs": [
    {
     "name": "stdout",
     "output_type": "stream",
     "text": [
      "      C1    C2    C3    C4    C5\n",
      "R0   0.0   1.0   2.0   3.0   4.0\n",
      "R1  10.0  11.0  12.0  13.0  14.0\n",
      "R3  15.0  16.0  17.0  18.0  19.0\n",
      "R4   NaN   NaN   NaN   NaN   NaN\n"
     ]
    }
   ],
   "source": [
    "print(df1)"
   ]
  },
  {
   "cell_type": "code",
   "execution_count": 95,
   "id": "6f800c58",
   "metadata": {},
   "outputs": [
    {
     "name": "stdout",
     "output_type": "stream",
     "text": [
      "      C1    C2    C3    C4    C5\n",
      "R0   0.0   1.0   2.0   3.0   4.0\n",
      "R1  10.0  11.0  12.0  13.0  14.0\n",
      "R3  15.0  16.0  17.0  18.0  19.0\n"
     ]
    }
   ],
   "source": [
    "df1.drop('R4',axis=0,inplace=True)\n",
    "print(df1)"
   ]
  },
  {
   "cell_type": "code",
   "execution_count": 96,
   "id": "67be8a3d",
   "metadata": {},
   "outputs": [
    {
     "name": "stdout",
     "output_type": "stream",
     "text": [
      "1    0\n",
      "5    1\n",
      "3    2\n",
      "2    3\n",
      "4    4\n",
      "dtype: int32\n"
     ]
    }
   ],
   "source": [
    "#Sort & (1.Index and 2.Value)\n",
    "sr1=pd.Series(np.arange(5),index=[1,5,3,2,4])\n",
    "print(sr1)"
   ]
  },
  {
   "cell_type": "code",
   "execution_count": 97,
   "id": "df814e29",
   "metadata": {},
   "outputs": [
    {
     "name": "stdout",
     "output_type": "stream",
     "text": [
      "None\n",
      "1    0\n",
      "2    3\n",
      "3    2\n",
      "4    4\n",
      "5    1\n",
      "dtype: int32\n"
     ]
    }
   ],
   "source": [
    "print(sr1.sort_index(inplace=True))\n",
    "print(sr1)"
   ]
  },
  {
   "cell_type": "code",
   "execution_count": 98,
   "id": "a75d8963",
   "metadata": {},
   "outputs": [
    {
     "name": "stdout",
     "output_type": "stream",
     "text": [
      "Mahesh Babu    1\n",
      "AA             2\n",
      "PB             3\n",
      "NTR            4\n",
      "PK             5\n",
      "dtype: int32\n"
     ]
    }
   ],
   "source": [
    "sr2=pd.Series(np.arange(1,6,1),index=['Mahesh Babu','AA','PB','NTR','PK'])\n",
    "print(sr2)"
   ]
  },
  {
   "cell_type": "code",
   "execution_count": 99,
   "id": "186807eb",
   "metadata": {},
   "outputs": [
    {
     "name": "stdout",
     "output_type": "stream",
     "text": [
      "Sorted by Index :\n",
      " AA             2\n",
      "Mahesh Babu    1\n",
      "NTR            4\n",
      "PB             3\n",
      "PK             5\n",
      "dtype: int32 \n",
      "\n",
      "Original :\n",
      " Mahesh Babu    1\n",
      "AA             2\n",
      "PB             3\n",
      "NTR            4\n",
      "PK             5\n",
      "dtype: int32\n"
     ]
    }
   ],
   "source": [
    "print('Sorted by Index :\\n',sr2.sort_index(),'\\n')\n",
    "print('Original :\\n',sr2)"
   ]
  },
  {
   "cell_type": "code",
   "execution_count": null,
   "id": "09fa6682",
   "metadata": {},
   "outputs": [],
   "source": []
  },
  {
   "cell_type": "code",
   "execution_count": 101,
   "id": "be9ac822",
   "metadata": {},
   "outputs": [
    {
     "name": "stdout",
     "output_type": "stream",
     "text": [
      "Sorted by Values : \n",
      " 1    0\n",
      "5    1\n",
      "3    2\n",
      "2    3\n",
      "4    4\n",
      "dtype: int32\n",
      "Sorted by Values : \n",
      " Mahesh Babu    1\n",
      "AA             2\n",
      "PB             3\n",
      "NTR            4\n",
      "PK             5\n",
      "dtype: int32\n"
     ]
    }
   ],
   "source": [
    "print('Sorted by Values : \\n',sr1.sort_values())\n",
    "print('Sorted by Values : \\n',sr2.sort_values())\n"
   ]
  },
  {
   "cell_type": "code",
   "execution_count": 102,
   "id": "89dcf6df",
   "metadata": {},
   "outputs": [
    {
     "name": "stdout",
     "output_type": "stream",
     "text": [
      "Sorted by Values : \n",
      " 1    0\n",
      "5    1\n",
      "3    2\n",
      "2    3\n",
      "4    4\n",
      "dtype: int32 \n",
      "\n",
      "Sorted by Values : \n",
      " Mahesh Babu    1\n",
      "AA             2\n",
      "PB             3\n",
      "NTR            4\n",
      "PK             5\n",
      "dtype: int32 \n",
      "\n",
      "Ranks :\n",
      " 1    1.0\n",
      "5    2.0\n",
      "3    3.0\n",
      "2    4.0\n",
      "4    5.0\n",
      "dtype: float64 \n",
      " Ranks :\n",
      " Mahesh Babu    1.0\n",
      "AA             2.0\n",
      "PB             3.0\n",
      "NTR            4.0\n",
      "PK             5.0\n",
      "dtype: float64 \n",
      "\n"
     ]
    }
   ],
   "source": [
    "#Rank\n",
    "sr1.sort_values(inplace=True)\n",
    "sr1.sort_values(inplace=True)\n",
    "print('Sorted by Values : \\n',sr1.sort_values(),'\\n')\n",
    "print('Sorted by Values : \\n',sr2.sort_values(),'\\n')\n",
    "print(\"Ranks :\\n\",sr1.rank(),'\\n Ranks :\\n',sr2.rank(),'\\n')\n",
    "\n"
   ]
  },
  {
   "cell_type": "code",
   "execution_count": 103,
   "id": "9a726893",
   "metadata": {},
   "outputs": [
    {
     "name": "stdout",
     "output_type": "stream",
     "text": [
      "England      11.9\n",
      "India        36.0\n",
      "USA          20.0\n",
      "Russia       34.0\n",
      "Australia    19.5\n",
      "dtype: float64 \n",
      "\n",
      " Africa        20.3\n",
      "China         11.9\n",
      "Newzealand    36.0\n",
      "Canada        16.6\n",
      "Japan         21.8\n",
      "dtype: float64\n"
     ]
    }
   ],
   "source": [
    "srs1=pd.Series([11.9,36.0,20.0,34.0,19.5],index=['England','India','USA','Russia','Australia'])\n",
    "srs2=pd.Series([20.3, 11.9, 36.0, 16.6, 21.8], index = ['Africa', 'China', 'Newzealand', 'Canada','Japan'])\n",
    "print(srs1,'\\n\\n',srs2)"
   ]
  },
  {
   "cell_type": "code",
   "execution_count": 104,
   "id": "3e68f7c0",
   "metadata": {},
   "outputs": [
    {
     "name": "stdout",
     "output_type": "stream",
     "text": [
      "England      11.9\n",
      "India        36.0\n",
      "USA          20.0\n",
      "Russia       34.0\n",
      "Australia    19.5\n",
      "Canada        NaN\n",
      "dtype: float64\n"
     ]
    }
   ],
   "source": [
    "srs1=srs1.reindex(['England','India','USA','Russia','Australia','Canada'])\n",
    "print(srs1)"
   ]
  },
  {
   "cell_type": "code",
   "execution_count": 105,
   "id": "c80ba7c3",
   "metadata": {},
   "outputs": [
    {
     "name": "stdout",
     "output_type": "stream",
     "text": [
      "England      False\n",
      "India        False\n",
      "USA          False\n",
      "Russia       False\n",
      "Australia    False\n",
      "Canada        True\n",
      "dtype: bool \n",
      "\n",
      "Canada   NaN\n",
      "dtype: float64 \n",
      "\n",
      "After dropping Null values:\n",
      " England      11.9\n",
      "India        36.0\n",
      "USA          20.0\n",
      "Russia       34.0\n",
      "Australia    19.5\n",
      "dtype: float64\n"
     ]
    }
   ],
   "source": [
    "print(srs1.isnull(),'\\n')\n",
    "print(srs1[srs1.isnull()],'\\n')\n",
    "srs1.drop('Canada',inplace=True)\n",
    "print('After dropping Null values:\\n',srs1)"
   ]
  },
  {
   "cell_type": "code",
   "execution_count": 112,
   "id": "5afd3c47",
   "metadata": {},
   "outputs": [
    {
     "name": "stdout",
     "output_type": "stream",
     "text": [
      "    C1  C2  C3  C4  C5\n",
      "R0   0   1   2   3   4\n",
      "R2   5   6   7   8   9\n",
      "R1  10  11  12  13  14\n",
      "R3  15  16  17  18  19\n"
     ]
    }
   ],
   "source": [
    "df=pd.DataFrame(arr2D,index=['R0','R2','R1','R3'],columns=['C1','C2','C3','C4','C5'])\n",
    "print(df)"
   ]
  },
  {
   "cell_type": "code",
   "execution_count": 113,
   "id": "dbb0114c",
   "metadata": {},
   "outputs": [],
   "source": [
    "df1=df.reindex(index=['R0','R2','R4','R1','R3'],columns=['C1','C2','C3','C','C4','C5'])"
   ]
  },
  {
   "cell_type": "code",
   "execution_count": 114,
   "id": "42c997d4",
   "metadata": {},
   "outputs": [
    {
     "name": "stdout",
     "output_type": "stream",
     "text": [
      "      C1    C2    C3   C    C4    C5\n",
      "R0   0.0   1.0   2.0 NaN   3.0   4.0\n",
      "R2   5.0   6.0   7.0 NaN   8.0   9.0\n",
      "R4   NaN   NaN   NaN NaN   NaN   NaN\n",
      "R1  10.0  11.0  12.0 NaN  13.0  14.0\n",
      "R3  15.0  16.0  17.0 NaN  18.0  19.0\n"
     ]
    }
   ],
   "source": [
    "print(df1)"
   ]
  },
  {
   "cell_type": "code",
   "execution_count": 115,
   "id": "4700ec75",
   "metadata": {
    "scrolled": true
   },
   "outputs": [
    {
     "name": "stdout",
     "output_type": "stream",
     "text": [
      "      C1    C2    C3   C    C4    C5\n",
      "R0   0.0   1.0   2.0 NaN   3.0   4.0\n",
      "R2   5.0   6.0   7.0 NaN   8.0   9.0\n",
      "R4   NaN   NaN   NaN NaN   NaN   NaN\n",
      "R1  10.0  11.0  12.0 NaN  13.0  14.0\n",
      "R3  15.0  16.0  17.0 NaN  18.0  19.0\n",
      "\n",
      "Deleting null values in a row : \n",
      "       C1    C2    C3   C    C4    C5\n",
      "R0   0.0   1.0   2.0 NaN   3.0   4.0\n",
      "R2   5.0   6.0   7.0 NaN   8.0   9.0\n",
      "R1  10.0  11.0  12.0 NaN  13.0  14.0\n",
      "R3  15.0  16.0  17.0 NaN  18.0  19.0\n"
     ]
    }
   ],
   "source": [
    "print(df1)\n",
    "df1.dropna(how='all',inplace=True)\n",
    "print('\\nDeleting null values in a row :','\\n',df1)\n"
   ]
  },
  {
   "cell_type": "code",
   "execution_count": 116,
   "id": "a13a6cc9",
   "metadata": {},
   "outputs": [
    {
     "name": "stdout",
     "output_type": "stream",
     "text": [
      "      C1    C2    C3   C    C4    C5\n",
      "R0   0.0   1.0   2.0 NaN   3.0   4.0\n",
      "R2   5.0   6.0   7.0 NaN   8.0   9.0\n",
      "R1  10.0  11.0  12.0 NaN  13.0  14.0\n",
      "R3  15.0  16.0  17.0 NaN  18.0  19.0\n",
      "Delecting null column :\n",
      "       C1    C2    C3    C4    C5\n",
      "R0   0.0   1.0   2.0   3.0   4.0\n",
      "R2   5.0   6.0   7.0   8.0   9.0\n",
      "R1  10.0  11.0  12.0  13.0  14.0\n",
      "R3  15.0  16.0  17.0  18.0  19.0\n"
     ]
    }
   ],
   "source": [
    "print(df1)\n",
    "df1.dropna(how='all',axis=1,inplace=True)\n",
    "print(\"Delecting null column :\\n\",df1)"
   ]
  },
  {
   "cell_type": "code",
   "execution_count": 119,
   "id": "d7e2b62b",
   "metadata": {},
   "outputs": [
    {
     "name": "stdout",
     "output_type": "stream",
     "text": [
      "      C1    C2    C3    C4    C5    C\n",
      "R0   0.0   1.0   2.0   3.0   4.0  1.0\n",
      "R2   5.0   6.0   7.0   8.0   9.0  2.0\n",
      "R1  10.0  11.0  12.0  13.0  14.0  NaN\n",
      "R3  15.0  16.0  17.0  18.0  19.0  4.0 \n",
      " \n",
      "       C1    C2    C3    C4    C5    C\n",
      "R0   0.0   1.0   2.0   3.0   4.0  1.0\n",
      "R2   5.0   6.0   7.0   8.0   9.0  2.0\n",
      "R1  10.0  11.0  12.0  13.0  14.0  NaN\n",
      "R3  15.0  16.0  17.0  18.0  19.0  4.0\n"
     ]
    }
   ],
   "source": [
    "df1['C']=[1,2,np.nan,4]\n",
    "df2=df1.copy()\n",
    "df3=df1.copy()\n",
    "print(df1,'\\n \\n',df2)"
   ]
  },
  {
   "cell_type": "code",
   "execution_count": null,
   "id": "360c207c",
   "metadata": {},
   "outputs": [],
   "source": []
  },
  {
   "cell_type": "code",
   "execution_count": 120,
   "id": "5aad0cbf",
   "metadata": {
    "scrolled": true
   },
   "outputs": [
    {
     "name": "stdout",
     "output_type": "stream",
     "text": [
      "      C1    C2    C3    C4    C5    C\n",
      "R0   0.0   1.0   2.0   3.0   4.0  1.0\n",
      "R2   5.0   6.0   7.0   8.0   9.0  2.0\n",
      "R1  10.0  11.0  12.0  13.0  14.0  NaN\n",
      "R3  15.0  16.0  17.0  18.0  19.0  4.0\n",
      "Deleting complete column with any null value:\n",
      "       C1    C2    C3    C4    C5\n",
      "R0   0.0   1.0   2.0   3.0   4.0\n",
      "R2   5.0   6.0   7.0   8.0   9.0\n",
      "R1  10.0  11.0  12.0  13.0  14.0\n",
      "R3  15.0  16.0  17.0  18.0  19.0\n"
     ]
    }
   ],
   "source": [
    "print(df1)\n",
    "df1.dropna(how='any',axis=1,inplace=True)\n",
    "print('Deleting complete column with any null value:\\n',df1)\n"
   ]
  },
  {
   "cell_type": "code",
   "execution_count": 121,
   "id": "a815b3b1",
   "metadata": {},
   "outputs": [
    {
     "name": "stdout",
     "output_type": "stream",
     "text": [
      "      C1    C2    C3    C4    C5    C\n",
      "R0   0.0   1.0   2.0   3.0   4.0  1.0\n",
      "R2   5.0   6.0   7.0   8.0   9.0  2.0\n",
      "R1  10.0  11.0  12.0  13.0  14.0  NaN\n",
      "R3  15.0  16.0  17.0  18.0  19.0  4.0\n"
     ]
    }
   ],
   "source": [
    "print(df2)"
   ]
  },
  {
   "cell_type": "code",
   "execution_count": 122,
   "id": "b5d5862c",
   "metadata": {},
   "outputs": [
    {
     "name": "stdout",
     "output_type": "stream",
     "text": [
      "      C1    C2    C3    C4    C5    C\n",
      "R0   0.0   1.0   2.0   3.0   4.0  1.0\n",
      "R2   5.0   6.0   7.0   8.0   9.0  2.0\n",
      "R1  10.0  11.0  12.0  13.0  14.0  NaN\n",
      "R3  15.0  16.0  17.0  18.0  19.0  4.0\n",
      "\n",
      "Deleting complete row with any null value :\n",
      "       C1    C2    C3    C4    C5    C\n",
      "R0   0.0   1.0   2.0   3.0   4.0  1.0\n",
      "R2   5.0   6.0   7.0   8.0   9.0  2.0\n",
      "R3  15.0  16.0  17.0  18.0  19.0  4.0\n"
     ]
    }
   ],
   "source": [
    "print(df2)\n",
    "df2.dropna(how='any',axis=0,inplace=True)\n",
    "print('\\nDeleting complete row with any null value :\\n',df2)"
   ]
  },
  {
   "cell_type": "code",
   "execution_count": 123,
   "id": "b9991444",
   "metadata": {},
   "outputs": [
    {
     "name": "stdout",
     "output_type": "stream",
     "text": [
      "      C1    C2    C3    C4    C5    C\n",
      "R0   0.0   1.0   2.0   3.0   4.0  1.0\n",
      "R2   5.0   6.0   7.0   8.0   9.0  2.0\n",
      "R1  10.0  11.0  12.0  13.0  14.0  NaN\n",
      "R3  15.0  16.0  17.0  18.0  19.0  4.0\n"
     ]
    }
   ],
   "source": [
    "print(df3)"
   ]
  },
  {
   "cell_type": "code",
   "execution_count": 124,
   "id": "cb05952a",
   "metadata": {},
   "outputs": [
    {
     "name": "stdout",
     "output_type": "stream",
     "text": [
      "After replacing null with star :\n",
      "       C1    C2    C3    C4    C5     C\n",
      "R0   0.0   1.0   2.0   3.0   4.0   1.0\n",
      "R2   5.0   6.0   7.0   8.0   9.0   2.0\n",
      "R1  10.0  11.0  12.0  13.0  14.0  star\n",
      "R3  15.0  16.0  17.0  18.0  19.0   4.0\n"
     ]
    }
   ],
   "source": [
    "\n",
    "df3.fillna('star',inplace=True)\n",
    "print('After replacing null with star :\\n',df3)"
   ]
  },
  {
   "cell_type": "code",
   "execution_count": 125,
   "id": "11642ca3",
   "metadata": {},
   "outputs": [
    {
     "name": "stdout",
     "output_type": "stream",
     "text": [
      "    C1  C2  C3  C4  C5\n",
      "R0   0   1   2   3   4\n",
      "R2   5   6   7   8   9\n",
      "R1  10  11  12  13  14\n",
      "R3  15  16  17  18  19 \n",
      "\n",
      "R0    10\n",
      "R2    35\n",
      "R1    60\n",
      "R3    85\n",
      "dtype: int64 \n",
      "\n",
      "C1    30\n",
      "C2    34\n",
      "C3    38\n",
      "C4    42\n",
      "C5    46\n",
      "dtype: int64\n"
     ]
    }
   ],
   "source": [
    "df=pd.DataFrame(arr2D,index=['R0','R2','R1','R3'],columns=['C1','C2','C3','C4','C5'])\n",
    "print(df,'\\n')\n",
    "print(df.sum(axis=1),'\\n')\n",
    "print(df.sum(axis=0))"
   ]
  },
  {
   "cell_type": "code",
   "execution_count": 126,
   "id": "dfd9ba70",
   "metadata": {},
   "outputs": [
    {
     "name": "stdout",
     "output_type": "stream",
     "text": [
      "    C1  C2  C3  C4  C5\n",
      "R0   0   1   2   3   4\n",
      "R2   5   6   7   8   9\n",
      "R1  10  11  12  13  14\n",
      "R3  15  16  17  18  19\n",
      "\n",
      "Min value in column wise :\n",
      " C1    R0\n",
      "C2    R0\n",
      "C3    R0\n",
      "C4    R0\n",
      "C5    R0\n",
      "dtype: object \n",
      "\n",
      "\n",
      "Min value row wise \n",
      " R0    C1\n",
      "R2    C1\n",
      "R1    C1\n",
      "R3    C1\n",
      "dtype: object\n"
     ]
    }
   ],
   "source": [
    "print(df)\n",
    "print('\\nMin value in column wise :\\n',df.idxmin(axis=0),'\\n')\n",
    "print('\\nMin value row wise \\n',df.idxmin(axis=1))"
   ]
  },
  {
   "cell_type": "code",
   "execution_count": 64,
   "id": "bbdd6ea4",
   "metadata": {},
   "outputs": [
    {
     "name": "stdout",
     "output_type": "stream",
     "text": [
      "A  1    0\n",
      "   2    1\n",
      "B  3    2\n",
      "   4    3\n",
      "   5    4\n",
      "dtype: int32\n",
      "1    0\n",
      "2    1\n",
      "dtype: int32\n",
      "0\n"
     ]
    }
   ],
   "source": [
    "#Multi level Indexing\n",
    "sr=pd.Series(np.arange(5),index=[['A','A','B','B','B'],[1,2,3,4,5]])\n",
    "print(sr)\n",
    "print(sr['A'])\n",
    "print(sr['A'][1])"
   ]
  },
  {
   "cell_type": "code",
   "execution_count": 65,
   "id": "3cebf2f4",
   "metadata": {},
   "outputs": [
    {
     "name": "stdout",
     "output_type": "stream",
     "text": [
      "The multileveled index in DataFrame:\n",
      "\n",
      "    USA Pak          UK Ind\n",
      "    Day Day Night Night Day\n",
      "A 1   0   1     2     3   4\n",
      "  2   5   6     7     8   9\n",
      "  3  10  11    12    13  14\n",
      "B 4  15  16    17    18  19\n",
      "  5  20  21    22    23  24\n"
     ]
    }
   ],
   "source": [
    "import numpy as np\n",
    "import pandas as pd\n",
    "# Declaring a multilevel indexed DataFrame\n",
    "df = pd.DataFrame(np.arange(25).reshape(5,5), index=[['A','A','A','B','B'], [1,2,3,4,5]],columns=[['USA', 'Pak', 'Pak', 'UK','Ind'], ['Day', 'Day','Night', 'Night','Day']])\n",
    "print(\"The multileveled index in DataFrame:\\n\")\n",
    "print(df)"
   ]
  },
  {
   "cell_type": "code",
   "execution_count": 77,
   "id": "0570cc03",
   "metadata": {},
   "outputs": [
    {
     "name": "stdout",
     "output_type": "stream",
     "text": [
      "    C1  C2  C3  C4  C5\n",
      "R0   0   1   2   3   4\n",
      "R2   5   6   7   8   9\n",
      "R1  10  11  12  13  14\n",
      "R3  15  16  17  18  19\n",
      "R4  20  21  22  23  24\n"
     ]
    }
   ],
   "source": [
    "arr2D=np.arange(25).reshape(5,5)\n",
    "df=pd.DataFrame(arr2D,index=['R0','R2','R1','R3','R4'],columns=['C1','C2','C3','C4','C5'])\n",
    "print(df)"
   ]
  },
  {
   "cell_type": "code",
   "execution_count": 66,
   "id": "1546f501",
   "metadata": {},
   "outputs": [
    {
     "name": "stdout",
     "output_type": "stream",
     "text": [
      "A  1     4\n",
      "   2    14\n",
      "   3    24\n",
      "B  4    34\n",
      "   5    44\n",
      "dtype: int32\n",
      "USA  Day      20\n",
      "Pak  Day      22\n",
      "     Night    24\n",
      "UK   Night    26\n",
      "Ind  Day      28\n",
      "dtype: int32\n",
      "        USA Pak          UK Ind\n",
      "        Day Day Night Night Day\n",
      "(A, 1)    0   1     2     3   4\n",
      "(A, 2)    5   6     7     8   9\n",
      "(A, 3)   10  11    12    13  14\n",
      "(B, 4)   15  16    17    18  19\n",
      "(B, 5)   20  21    22    23  24\n",
      "sum_col  20  22    24    26  28\n",
      "        USA Pak          UK Ind sum_row\n",
      "        Day Day Night Night Day        \n",
      "(A, 1)    0   1     2     3   4     4.0\n",
      "(A, 2)    5   6     7     8   9    14.0\n",
      "(A, 3)   10  11    12    13  14    24.0\n",
      "(B, 4)   15  16    17    18  19    34.0\n",
      "(B, 5)   20  21    22    23  24    44.0\n",
      "sum_col  20  22    24    26  28     NaN\n",
      "        USA Pak          UK Ind sum_row\n",
      "        Day Day Night Night Day        \n",
      "(A, 1)    0   1     2     3   4    20.0\n",
      "(A, 2)    5   6     7     8   9    22.0\n",
      "(A, 3)   10  11    12    13  14    24.0\n",
      "(B, 4)   15  16    17    18  19    26.0\n",
      "(B, 5)   20  21    22    23  24    28.0\n",
      "sum_col   4  14    24    34  44     NaN\n"
     ]
    }
   ],
   "source": [
    "min_max_sum_row=df.min(axis=1)+df.max(axis=1)\n",
    "min_max_sum_col=df.min(axis=0)+df.max(axis=0)\n",
    "print(min_max_sum_row)\n",
    "print(min_max_sum_col)\n",
    "df.loc['sum_col']=min_max_sum_col\n",
    "print(df)\n",
    "df['sum_row']=min_max_sum_row\n",
    "print(df)\n",
    "a=df.loc['sum_col'].copy()\n",
    "a=pd.Series(a)\n",
    "b=df['sum_row'].copy()\n",
    "b=pd.Series(b)\n",
    "df.loc['sum_col']=b.values\n",
    "df['sum_row']=a.values\n",
    "\n",
    "print(df)"
   ]
  },
  {
   "cell_type": "code",
   "execution_count": 70,
   "id": "4ed667cc",
   "metadata": {},
   "outputs": [
    {
     "name": "stdout",
     "output_type": "stream",
     "text": [
      "[20. 22. 24. 26. 28. nan] [ 4. 14. 24. 34. 44. nan]\n"
     ]
    }
   ],
   "source": [
    "print(a.values,b.values)"
   ]
  },
  {
   "cell_type": "code",
   "execution_count": 71,
   "id": "b7209ba0",
   "metadata": {},
   "outputs": [
    {
     "name": "stdout",
     "output_type": "stream",
     "text": [
      "First DataFrame\n",
      "  pointer  value_df1\n",
      "0       A          0\n",
      "1       B          1\n",
      "2       C          2\n",
      "3       B          3\n",
      "4       A          4\n",
      "5       D          5\n"
     ]
    }
   ],
   "source": [
    "#Merging\n",
    "import numpy as np\n",
    "import pandas as pd\n",
    "df1 = pd.DataFrame({'pointer':['A', 'B', 'C', 'B', 'A', 'D'],\n",
    "'value_df1':[0,1,2,3,4,5]})\n",
    "print(\"First DataFrame\")\n",
    "print(df1)"
   ]
  },
  {
   "cell_type": "code",
   "execution_count": 72,
   "id": "a52d168a",
   "metadata": {},
   "outputs": [
    {
     "name": "stdout",
     "output_type": "stream",
     "text": [
      "\n",
      "Second DataFrame\n",
      "      C1    C2    C3    C4    C5    C\n",
      "R0   0.0   1.0   2.0   3.0   4.0  1.0\n",
      "R2   5.0   6.0   7.0   8.0   9.0  2.0\n",
      "R3  15.0  16.0  17.0  18.0  19.0  4.0\n",
      "\n",
      "Merged DataFrame\n"
     ]
    },
    {
     "ename": "MergeError",
     "evalue": "No common columns to perform merge on. Merge options: left_on=None, right_on=None, left_index=False, right_index=False",
     "output_type": "error",
     "traceback": [
      "\u001b[1;31m---------------------------------------------------------------------------\u001b[0m",
      "\u001b[1;31mMergeError\u001b[0m                                Traceback (most recent call last)",
      "\u001b[1;32m~\\AppData\\Local\\Temp/ipykernel_13428/2573650166.py\u001b[0m in \u001b[0;36m<module>\u001b[1;34m\u001b[0m\n\u001b[0;32m      2\u001b[0m \u001b[0mprint\u001b[0m\u001b[1;33m(\u001b[0m\u001b[0mdf2\u001b[0m\u001b[1;33m)\u001b[0m\u001b[1;33m\u001b[0m\u001b[1;33m\u001b[0m\u001b[0m\n\u001b[0;32m      3\u001b[0m \u001b[0mprint\u001b[0m\u001b[1;33m(\u001b[0m\u001b[1;34m\"\\nMerged DataFrame\"\u001b[0m\u001b[1;33m)\u001b[0m\u001b[1;33m\u001b[0m\u001b[1;33m\u001b[0m\u001b[0m\n\u001b[1;32m----> 4\u001b[1;33m \u001b[0mprint\u001b[0m\u001b[1;33m(\u001b[0m\u001b[1;34m'\\n'\u001b[0m\u001b[1;33m,\u001b[0m\u001b[0mpd\u001b[0m\u001b[1;33m.\u001b[0m\u001b[0mmerge\u001b[0m\u001b[1;33m(\u001b[0m\u001b[0mdf1\u001b[0m\u001b[1;33m,\u001b[0m \u001b[0mdf2\u001b[0m\u001b[1;33m)\u001b[0m\u001b[1;33m)\u001b[0m \u001b[1;31m# Merging two DataFrames\u001b[0m\u001b[1;33m\u001b[0m\u001b[1;33m\u001b[0m\u001b[0m\n\u001b[0m",
      "\u001b[1;32mD:\\Anaconda\\lib\\site-packages\\pandas\\core\\reshape\\merge.py\u001b[0m in \u001b[0;36mmerge\u001b[1;34m(left, right, how, on, left_on, right_on, left_index, right_index, sort, suffixes, copy, indicator, validate)\u001b[0m\n\u001b[0;32m    104\u001b[0m     \u001b[0mvalidate\u001b[0m\u001b[1;33m:\u001b[0m \u001b[0mstr\u001b[0m \u001b[1;33m|\u001b[0m \u001b[1;32mNone\u001b[0m \u001b[1;33m=\u001b[0m \u001b[1;32mNone\u001b[0m\u001b[1;33m,\u001b[0m\u001b[1;33m\u001b[0m\u001b[1;33m\u001b[0m\u001b[0m\n\u001b[0;32m    105\u001b[0m ) -> DataFrame:\n\u001b[1;32m--> 106\u001b[1;33m     op = _MergeOperation(\n\u001b[0m\u001b[0;32m    107\u001b[0m         \u001b[0mleft\u001b[0m\u001b[1;33m,\u001b[0m\u001b[1;33m\u001b[0m\u001b[1;33m\u001b[0m\u001b[0m\n\u001b[0;32m    108\u001b[0m         \u001b[0mright\u001b[0m\u001b[1;33m,\u001b[0m\u001b[1;33m\u001b[0m\u001b[1;33m\u001b[0m\u001b[0m\n",
      "\u001b[1;32mD:\\Anaconda\\lib\\site-packages\\pandas\\core\\reshape\\merge.py\u001b[0m in \u001b[0;36m__init__\u001b[1;34m(self, left, right, how, on, left_on, right_on, axis, left_index, right_index, sort, suffixes, copy, indicator, validate)\u001b[0m\n\u001b[0;32m    679\u001b[0m             \u001b[0mwarnings\u001b[0m\u001b[1;33m.\u001b[0m\u001b[0mwarn\u001b[0m\u001b[1;33m(\u001b[0m\u001b[0mmsg\u001b[0m\u001b[1;33m,\u001b[0m \u001b[0mFutureWarning\u001b[0m\u001b[1;33m,\u001b[0m \u001b[0mstacklevel\u001b[0m\u001b[1;33m=\u001b[0m\u001b[1;36m3\u001b[0m\u001b[1;33m)\u001b[0m\u001b[1;33m\u001b[0m\u001b[1;33m\u001b[0m\u001b[0m\n\u001b[0;32m    680\u001b[0m \u001b[1;33m\u001b[0m\u001b[0m\n\u001b[1;32m--> 681\u001b[1;33m         \u001b[0mself\u001b[0m\u001b[1;33m.\u001b[0m\u001b[0m_validate_specification\u001b[0m\u001b[1;33m(\u001b[0m\u001b[1;33m)\u001b[0m\u001b[1;33m\u001b[0m\u001b[1;33m\u001b[0m\u001b[0m\n\u001b[0m\u001b[0;32m    682\u001b[0m \u001b[1;33m\u001b[0m\u001b[0m\n\u001b[0;32m    683\u001b[0m         \u001b[0mcross_col\u001b[0m \u001b[1;33m=\u001b[0m \u001b[1;32mNone\u001b[0m\u001b[1;33m\u001b[0m\u001b[1;33m\u001b[0m\u001b[0m\n",
      "\u001b[1;32mD:\\Anaconda\\lib\\site-packages\\pandas\\core\\reshape\\merge.py\u001b[0m in \u001b[0;36m_validate_specification\u001b[1;34m(self)\u001b[0m\n\u001b[0;32m   1344\u001b[0m                 \u001b[0mcommon_cols\u001b[0m \u001b[1;33m=\u001b[0m \u001b[0mleft_cols\u001b[0m\u001b[1;33m.\u001b[0m\u001b[0mintersection\u001b[0m\u001b[1;33m(\u001b[0m\u001b[0mright_cols\u001b[0m\u001b[1;33m)\u001b[0m\u001b[1;33m\u001b[0m\u001b[1;33m\u001b[0m\u001b[0m\n\u001b[0;32m   1345\u001b[0m                 \u001b[1;32mif\u001b[0m \u001b[0mlen\u001b[0m\u001b[1;33m(\u001b[0m\u001b[0mcommon_cols\u001b[0m\u001b[1;33m)\u001b[0m \u001b[1;33m==\u001b[0m \u001b[1;36m0\u001b[0m\u001b[1;33m:\u001b[0m\u001b[1;33m\u001b[0m\u001b[1;33m\u001b[0m\u001b[0m\n\u001b[1;32m-> 1346\u001b[1;33m                     raise MergeError(\n\u001b[0m\u001b[0;32m   1347\u001b[0m                         \u001b[1;34m\"No common columns to perform merge on. \"\u001b[0m\u001b[1;33m\u001b[0m\u001b[1;33m\u001b[0m\u001b[0m\n\u001b[0;32m   1348\u001b[0m                         \u001b[1;34mf\"Merge options: left_on={self.left_on}, \"\u001b[0m\u001b[1;33m\u001b[0m\u001b[1;33m\u001b[0m\u001b[0m\n",
      "\u001b[1;31mMergeError\u001b[0m: No common columns to perform merge on. Merge options: left_on=None, right_on=None, left_index=False, right_index=False"
     ]
    }
   ],
   "source": [
    "print(\"\\nSecond DataFrame\")\n",
    "print(df2)\n",
    "print(\"\\nMerged DataFrame\")\n",
    "print('\\n',pd.merge(df1, df2)) # Merging two DataFrames"
   ]
  },
  {
   "cell_type": "code",
   "execution_count": 73,
   "id": "62f81727",
   "metadata": {},
   "outputs": [
    {
     "name": "stdout",
     "output_type": "stream",
     "text": [
      "  pointer  value_df1\n",
      "0       A          0\n",
      "1       B          1\n",
      "2       C          2\n",
      "3       B          3\n",
      "4       A          4\n",
      "5       D          5\n",
      "  pointer  value_df2\n",
      "0       B          6\n",
      "1       C          7\n",
      "2       B          8\n",
      "3       D          9\n",
      "4       E         12\n",
      "Left Merged DataFrame\n",
      "\n",
      "  pointer  value_df1  value_df2\n",
      "0       A          0        NaN\n",
      "1       B          1        6.0\n",
      "2       B          1        8.0\n",
      "3       C          2        7.0\n",
      "4       B          3        6.0\n",
      "5       B          3        8.0\n",
      "6       A          4        NaN\n",
      "7       D          5        9.0\n"
     ]
    }
   ],
   "source": [
    "#Left Merge\n",
    "import numpy as np\n",
    "import pandas as pd\n",
    "df1 = pd.DataFrame({'pointer':['A', 'B', 'C', 'B', 'A', 'D'],\n",
    "'value_df1':[0,1,2,3,4,5]})\n",
    "print(df1)\n",
    "df2 = pd.DataFrame({'pointer':['B', 'C', 'B', 'D', 'E'],\n",
    "'value_df2':[6, 7, 8, 9, 12]})\n",
    "print(df2)\n",
    "print(\"Left Merged DataFrame\\n\")\n",
    "print(pd.merge(df1, df2, how = 'left')) # Performing a left merge"
   ]
  },
  {
   "cell_type": "code",
   "execution_count": 74,
   "id": "d9b311bf",
   "metadata": {},
   "outputs": [
    {
     "name": "stdout",
     "output_type": "stream",
     "text": [
      "  pointer  value_df1\n",
      "0       A          0\n",
      "1       B          1\n",
      "2       C          2\n",
      "3       B          3\n",
      "4       A          4\n",
      "5       D          5\n",
      "  pointer  value_df2\n",
      "0       B          6\n",
      "1       Z          7\n",
      "2       C          8\n",
      "3       B          9\n",
      "4       D         10\n",
      "5       E         11\n",
      "Right Merged DataFrame\n",
      "\n",
      "  pointer  value_df1  value_df2\n",
      "0       B        1.0          6\n",
      "1       B        3.0          6\n",
      "2       Z        NaN          7\n",
      "3       C        2.0          8\n",
      "4       B        1.0          9\n",
      "5       B        3.0          9\n",
      "6       D        5.0         10\n",
      "7       E        NaN         11\n"
     ]
    }
   ],
   "source": [
    "#Right Merge\n",
    "import numpy as np\n",
    "import pandas as pd\n",
    "df1 = pd.DataFrame({'pointer':['A', 'B', 'C', 'B', 'A', 'D'],\n",
    "'value_df1':[0,1,2,3,4,5]})\n",
    "print(df1)\n",
    "df2 = pd.DataFrame({'pointer':['B', 'Z', 'C', 'B','D','E'],\n",
    "'value_df2':[6,7,8,9,10,11]})\n",
    "print(df2)\n",
    "print(\"Right Merged DataFrame\\n\")\n",
    "print(pd.merge(df1, df2, how = 'right')) # Performing a right merge"
   ]
  },
  {
   "cell_type": "code",
   "execution_count": 75,
   "id": "7ab8ef98",
   "metadata": {},
   "outputs": [
    {
     "name": "stdout",
     "output_type": "stream",
     "text": [
      "The Original DataFrame\n",
      "Column  Col1  Col2  Col3  Col4\n",
      "Row                           \n",
      "Row1       0     1     2     3\n",
      "Row2       4     5     6     7\n",
      "Row3       8     9    10    11 \n",
      "\n",
      "The Stacked DataFrame\n",
      " Row   Column\n",
      "Row1  Col1       0\n",
      "      Col2       1\n",
      "      Col3       2\n",
      "      Col4       3\n",
      "Row2  Col1       4\n",
      "      Col2       5\n",
      "      Col3       6\n",
      "      Col4       7\n",
      "Row3  Col1       8\n",
      "      Col2       9\n",
      "      Col3      10\n",
      "      Col4      11\n",
      "dtype: int32\n",
      "\n",
      "The Unstacked DataFrame\n",
      "Column  Col1  Col2  Col3  Col4\n",
      "Row                           \n",
      "Row1       0     1     2     3\n",
      "Row2       4     5     6     7\n",
      "Row3       8     9    10    11 \n",
      "\n",
      "The Unstacked DataFrame on Named index\n",
      "Row     Row1  Row2  Row3\n",
      "Column                  \n",
      "Col1       0     4     8\n",
      "Col2       1     5     9\n",
      "Col3       2     6    10\n",
      "Col4       3     7    11\n"
     ]
    }
   ],
   "source": [
    "import numpy as np\n",
    "import pandas as pd\n",
    "df = pd.DataFrame(np.arange(12).reshape(3,4), index = ['Row1', 'Row2', 'Row3'],\n",
    "columns = ['Col1','Col2','Col3','Col4',])\n",
    "df.index.name = 'Row'\n",
    "df.columns.name = 'Column'\n",
    "print(\"The Original DataFrame\")\n",
    "print(df,'\\n')\n",
    "stacked_df = df.stack()\n",
    "print(\"The Stacked DataFrame\\n\", stacked_df)\n",
    "print(\"\\nThe Unstacked DataFrame\")\n",
    "print(stacked_df.unstack(),'\\n')\n",
    "print(\"The Unstacked DataFrame on Named index\")\n",
    "print(stacked_df.unstack('Row'))"
   ]
  },
  {
   "cell_type": "code",
   "execution_count": 76,
   "id": "611eb3db",
   "metadata": {},
   "outputs": [
    {
     "name": "stdout",
     "output_type": "stream",
     "text": [
      "The Original DataFrame\n",
      "Column    Company   Product Price\n",
      "Row                              \n",
      "0          Google    Editor  $200\n",
      "1       Microsoft    Editor  $250\n",
      "2          Google  Calendar   $50\n",
      "3       Microsoft     Azure  $400 \n",
      "\n",
      "The Pivoted DataFrame\n",
      "Product   Azure Calendar Editor\n",
      "Company                        \n",
      "Google      NaN      $50   $200\n",
      "Microsoft  $400      NaN   $250\n"
     ]
    }
   ],
   "source": [
    "import numpy as np\n",
    "import pandas as pd\n",
    "df = pd.DataFrame({'Company': ['Google', 'Microsoft', 'Google', 'Microsoft'],\n",
    "'Product': ['Editor', 'Editor', 'Calendar', 'Azure'],\n",
    "'Price': ['$200', '$250', '$50', '$400']})\n",
    "df.index.name = 'Row'\n",
    "df.columns.name = 'Column'\n",
    "print(\"The Original DataFrame\")\n",
    "print(df,'\\n')\n",
    "print(\"The Pivoted DataFrame\")\n",
    "print(df.pivot('Company', 'Product', 'Price'))"
   ]
  },
  {
   "cell_type": "markdown",
   "id": "8721733d",
   "metadata": {},
   "source": [
    "# Dropping Dulplicates in Data Frame"
   ]
  },
  {
   "cell_type": "code",
   "execution_count": 127,
   "id": "9a56b42c",
   "metadata": {},
   "outputs": [
    {
     "name": "stdout",
     "output_type": "stream",
     "text": [
      "The Original DataFrame\n",
      "  Col1  Col2\n",
      "0    A     1\n",
      "1    B     2\n",
      "2    A     1\n",
      "3    C     3\n",
      "4    B     4\n",
      "5    C     3 \n",
      "\n",
      "The DataFrame without duplicates\n",
      "  Col1  Col2\n",
      "0    A     1\n",
      "1    B     2\n",
      "3    C     3\n",
      "4    B     4 \n",
      "\n",
      "The DataFrame without Column1 duplicates\n",
      "  Col1  Col2\n",
      "0    A     1\n",
      "1    B     2\n",
      "3    C     3\n",
      "  Col1  Col2\n",
      "0    A     1\n",
      "1    B     2\n",
      "2    A     1\n",
      "3    C     3\n",
      "4    B     4\n",
      "5    C     3\n"
     ]
    }
   ],
   "source": [
    "import pandas as pd\n",
    "df = pd.DataFrame({'Col1':['A', 'B', 'A', 'C', 'B', 'C'],\n",
    "'Col2': [1, 2, 1, 3, 4, 3]})\n",
    "print(\"The Original DataFrame\")\n",
    "print(df,'\\n')\n",
    "print(\"The DataFrame without duplicates\")\n",
    "print(df.drop_duplicates(),'\\n')\n",
    "print(\"The DataFrame without Column1 duplicates\")\n",
    "print(df.drop_duplicates(['Col1']))\n",
    "print(df)"
   ]
  },
  {
   "cell_type": "markdown",
   "id": "79974bce",
   "metadata": {},
   "source": [
    "# Mapping"
   ]
  },
  {
   "cell_type": "code",
   "execution_count": 130,
   "id": "a6df96ca",
   "metadata": {},
   "outputs": [
    {
     "name": "stdout",
     "output_type": "stream",
     "text": [
      "Original Data Frame :\n",
      "         City  AQI\n",
      "0     Guntur   85\n",
      "1      Kochi   93\n",
      "2   Banglore  120\n",
      "3  Hyderabad  128\n",
      "\n",
      " \n",
      "The Mapped Data Frame :\n",
      "         City  AQI           State\n",
      "0     Guntur   85  Andhra Pradesh\n",
      "1      Kochi   93          Kerala\n",
      "2   Banglore  120       Karnataka\n",
      "3  Hyderabad  128       Telengana\n"
     ]
    }
   ],
   "source": [
    "df=pd.DataFrame({'City':['Guntur','Kochi','Banglore','Hyderabad'],\n",
    "                 'AQI':[85,93,120,128] \n",
    "    \n",
    "})\n",
    "print('Original Data Frame :\\n',df)\n",
    "dict_map={'Guntur':'Andhra Pradesh','Kochi':'Kerala','Banglore':'Karnataka','Hyderabad':'Telengana'}\n",
    "df['State']=df['City'].map(dict_map)\n",
    "print('\\n \\nThe Mapped Data Frame :\\n',df)"
   ]
  },
  {
   "cell_type": "markdown",
   "id": "d1cde2db",
   "metadata": {},
   "source": [
    "# Replace and Rename"
   ]
  },
  {
   "cell_type": "code",
   "execution_count": 131,
   "id": "85382adf",
   "metadata": {},
   "outputs": [
    {
     "name": "stdout",
     "output_type": "stream",
     "text": [
      "Original Series:\n",
      " 0      Narasimha\n",
      "1       Santhosh\n",
      "2    Veera Reddy\n",
      "3    Mahesh Babu\n",
      "dtype: object\n",
      "\n",
      " After Replacement :\n",
      " 0                 Narasimha\n",
      "1                  Santhosh\n",
      "2               Veera Reddy\n",
      "3    Super Star Mahesh Babu\n",
      "dtype: object\n"
     ]
    }
   ],
   "source": [
    "srs=pd.Series(['Narasimha','Santhosh','Veera Reddy','Mahesh Babu'])\n",
    "print('Original Series:\\n',srs)\n",
    "srs=srs.replace('Mahesh Babu','Super Star Mahesh Babu')\n",
    "print('\\n After Replacement :\\n',srs)\n"
   ]
  },
  {
   "cell_type": "code",
   "execution_count": 132,
   "id": "3f81c0fb",
   "metadata": {},
   "outputs": [
    {
     "name": "stdout",
     "output_type": "stream",
     "text": [
      "Original Series: \n",
      " 0      Narasimha\n",
      "1       Santhosh\n",
      "2    Veera Reddy\n",
      "3    Mahesh Babu\n",
      "dtype: object\n",
      "\n",
      " \n",
      "After Replacement :\n",
      " 0           Narasimha Reddy\n",
      "1                  Santhosh\n",
      "2               Veera Reddy\n",
      "3    Super Star Mahesh Babu\n",
      "dtype: object\n"
     ]
    }
   ],
   "source": [
    "srs=pd.Series(['Narasimha','Santhosh','Veera Reddy','Mahesh Babu'])\n",
    "print('Original Series: \\n',srs)\n",
    "srs=srs.replace(['Mahesh Babu','Narasimha'],['Super Star Mahesh Babu','Narasimha Reddy'])\n",
    "print('\\n \\nAfter Replacement :\\n',srs)"
   ]
  },
  {
   "cell_type": "code",
   "execution_count": 134,
   "id": "ab71fc93",
   "metadata": {},
   "outputs": [
    {
     "name": "stdout",
     "output_type": "stream",
     "text": [
      "Original Data Frame :\n",
      "           Name      Sur Name\n",
      "0    Narasimha     Boddapati\n",
      "1     Santhosh     Boddapati\n",
      "2  Veera Reddy        Undela\n",
      "3  Mahesh Babu  Ghattamaneni\n",
      "\n",
      " After Replacement :\n",
      "               Name      Sur Name\n",
      "0  Narasimha Reddy     Boddapati\n",
      "1         Santhosh     Boddapati\n",
      "2      Veera Reddy        Undela\n",
      "3      Mahesh Babu  Ghattamaneni\n"
     ]
    }
   ],
   "source": [
    "df=pd.DataFrame({'Name':['Narasimha','Santhosh','Veera Reddy','Mahesh Babu'],'Sur Name':['Boddapati','Boddapati','Undela','Ghattamaneni']})\n",
    "print('Original Data Frame :\\n',df)\n",
    "df=df.replace('Narasimha','Narasimha Reddy')\n",
    "print('\\n After Replacement :\\n',df,)\n"
   ]
  },
  {
   "cell_type": "code",
   "execution_count": 135,
   "id": "8a162ce7",
   "metadata": {},
   "outputs": [
    {
     "name": "stdout",
     "output_type": "stream",
     "text": [
      "Original Data Frame :\n",
      "           Name      Sur Name\n",
      "0    Narasimha     Boddapati\n",
      "1     Santhosh     Boddapati\n",
      "2  Veera Reddy        Undela\n",
      "3  Mahesh Babu  Ghattamaneni\n",
      "\n",
      " After Replacement :\n",
      "               Name      Sur Name\n",
      "0  Narasimha Reddy     Boddapati\n",
      "1         Santhosh     Boddapati\n",
      "2      Veera Reddy        Undela\n",
      "3           Mahesh  Ghattamaneni\n"
     ]
    }
   ],
   "source": [
    "df=pd.DataFrame({'Name':['Narasimha','Santhosh','Veera Reddy','Mahesh Babu'],'Sur Name':['Boddapati','Boddapati','Undela','Ghattamaneni']})\n",
    "print('Original Data Frame :\\n',df)\n",
    "df=df.replace(['Narasimha','Mahesh Babu'],['Narasimha Reddy','Mahesh'])\n",
    "print('\\n After Replacement :\\n',df,)\n"
   ]
  },
  {
   "cell_type": "code",
   "execution_count": 142,
   "id": "cf2e30e7",
   "metadata": {},
   "outputs": [
    {
     "name": "stdout",
     "output_type": "stream",
     "text": [
      "The original DataFrame\n",
      "           col1      col2      col3\n",
      "row1  2.021550  0.957103  0.481347\n",
      "row2  1.227267  0.206768  1.125486\n",
      "row3  0.064868  1.221061  0.003849 \n",
      "\n",
      "All row and column indexes are changed\n",
      "          Col1      Col2      Col3\n",
      "ROW1  2.021550  0.957103  0.481347\n",
      "ROW2  1.227267  0.206768  1.125486\n",
      "ROW3  0.064868  1.221061  0.003849 \n",
      "\n",
      "Specific row and column indexes are changed\n",
      "                col1      col2  col_index3\n",
      "row1        2.021550  0.957103    0.481347\n",
      "row2        1.227267  0.206768    1.125486\n",
      "row_index3  0.064868  1.221061    0.003849\n"
     ]
    }
   ],
   "source": [
    "df = pd.DataFrame(abs(np.random.randn(9)).reshape(3,3),index = ['row1', 'row2', 'row3'],columns = ['col1', 'col2', 'col3'])\n",
    "print(\"The original DataFrame\\n\", df, '\\n')\n",
    "print(\"All row and column indexes are changed\")\n",
    "print(df.rename(index = str.upper, columns = str.title), '\\n')\n",
    "print(\"Specific row and column indexes are changed\")\n",
    "print(df.rename(index = {'row3':'row_index3'}, columns = {'col3':'col_index3'}))"
   ]
  },
  {
   "cell_type": "code",
   "execution_count": 143,
   "id": "82fe9222",
   "metadata": {},
   "outputs": [
    {
     "name": "stdout",
     "output_type": "stream",
     "text": [
      "         Col1      Col2      col3\n",
      "0   -1.636615 -0.144990 -1.080426\n",
      "1   -1.569604 -1.935342  1.679717\n",
      "2    0.424788  1.628973  0.700919\n",
      "3    0.290129 -0.475241 -0.927877\n",
      "4    0.529558  0.950429 -0.071580\n",
      "..        ...       ...       ...\n",
      "895  1.416734 -2.132590 -2.188989\n",
      "896 -3.275026 -0.852232  2.232547\n",
      "897 -0.998255  0.593131 -0.002789\n",
      "898 -0.301068  0.228848  0.784614\n",
      "899 -0.039763  1.298384 -0.687499\n",
      "\n",
      "[900 rows x 3 columns]\n",
      "          Col1      Col2      col3\n",
      "0.25 -0.682536 -0.690431 -0.578746\n",
      "0.75  0.622961  0.739076  0.695951\n"
     ]
    }
   ],
   "source": [
    "df = pd.DataFrame(np.random.randn(900,3),columns=['Col1','Col2','col3'])\n",
    "print(df)\n",
    "quantiles_df=(df.quantile([0.25,0.75]))\n",
    "print(quantiles_df)"
   ]
  },
  {
   "cell_type": "code",
   "execution_count": 88,
   "id": "cebd7752",
   "metadata": {},
   "outputs": [
    {
     "name": "stdout",
     "output_type": "stream",
     "text": [
      "The Lower bound for the first column:\n",
      "-2.695655719342872 \n",
      "=========================\n",
      "The Upper bound for the first column:\n",
      "2.6480442284045766 \n",
      "=========================\n",
      "The outliers in the first column below the lower bound:\n",
      "468   -2.759108\n",
      "626   -3.498677\n",
      "627   -2.796593\n",
      "Name: Col1, dtype: float64\n",
      "The outliers in the first column above the upper bound:\n",
      "31     3.657378\n",
      "259    2.987459\n",
      "711    3.127161\n",
      "819    2.979488\n",
      "Name: Col1, dtype: float64\n"
     ]
    }
   ],
   "source": [
    "#finding the Outliers in 1st column(col1)\n",
    "Q1=quantiles_df.iloc[0]['Col1']\n",
    "Q3=quantiles_df.iloc[1]['Col1']\n",
    "IQR=Q3-Q1#Inter Quartile Range\n",
    "Lower_Bound=(Q1-(IQR*1.5))\n",
    "Upper_Bound=(Q3+(IQR*1.5))\n",
    "print(\"The Lower bound for the first column:\")\n",
    "print(Lower_Bound, '\\n=========================')\n",
    "print(\"The Upper bound for the first column:\")\n",
    "print(Upper_Bound, '\\n=========================')\n",
    "col1=df['Col1']\n",
    "print(\"The outliers in the first column below the lower bound:\")\n",
    "print(col1[col1<Lower_Bound])\n",
    "print(\"The outliers in the first column above the upper bound:\")\n",
    "print(col1[col1>Upper_Bound])\n",
    "\n"
   ]
  },
  {
   "cell_type": "markdown",
   "id": "15d2e5fa",
   "metadata": {},
   "source": [
    "# Dealing with Outliers"
   ]
  },
  {
   "cell_type": "code",
   "execution_count": 89,
   "id": "b250d156",
   "metadata": {},
   "outputs": [
    {
     "name": "stdout",
     "output_type": "stream",
     "text": [
      "The outliers in the first column below the lower bound:\n",
      "Series([], Name: Col1, dtype: float64)\n",
      "The outliers in the first column above the upper bound:\n",
      "Series([], Name: Col1, dtype: float64)\n"
     ]
    }
   ],
   "source": [
    "col1[col1<Lower_Bound]=Lower_Bound\n",
    "col1[col1>Upper_Bound]=Upper_Bound\n",
    "print(\"The outliers in the first column below the lower bound:\")\n",
    "print(col1[col1<Lower_Bound])\n",
    "print(\"The outliers in the first column above the upper bound:\")\n",
    "print(col1[col1>Upper_Bound])"
   ]
  },
  {
   "cell_type": "markdown",
   "id": "a499e42d",
   "metadata": {},
   "source": [
    "# Data Grouping "
   ]
  },
  {
   "cell_type": "code",
   "execution_count": 146,
   "id": "00d0852c",
   "metadata": {},
   "outputs": [
    {
     "name": "stdout",
     "output_type": "stream",
     "text": [
      "The Original Data Frame : \n",
      "=========================\n",
      "   p1  p2     val_1     val_2\n",
      "0  A  G1 -0.720479  0.708193\n",
      "1  A  G2 -0.211790  0.308022\n",
      "2  B  G1  0.486915  0.143845\n",
      "3  B  G2 -0.205800  0.412469\n",
      "4  C  G1 -1.988407 -0.246821\n",
      "5  C  G2 -1.120303  1.354570\n",
      "\n",
      " ['A' 'B' 'C']\n",
      "\n",
      " ['G1' 'G2']\n",
      "\n",
      "The p1 Group's Sum : \n",
      "===============\n",
      "        val_1     val_2\n",
      "p1                    \n",
      "A  -0.932269  1.016215\n",
      "B   0.281114  0.556315\n",
      "C  -3.108710  1.107748\n",
      "\n",
      "The P2 Group's Sum : \n",
      "===============\n",
      "        val_1     val_2\n",
      "p2                    \n",
      "G1 -2.221972  0.605217\n",
      "G2 -1.537894  2.075061\n",
      "\n",
      "The p1 Group's Count : \n",
      "===============\n",
      "     p2  val_1  val_2\n",
      "p1                  \n",
      "A    2      2      2\n",
      "B    2      2      2\n",
      "C    2      2      2\n",
      "\n",
      "The p1 Group's Count : \n",
      "===============\n",
      "     p2  val_1  val_2\n",
      "p1                  \n",
      "A    2      2      2\n",
      "B    2      2      2\n",
      "C    2      2      2\n"
     ]
    }
   ],
   "source": [
    "df = pd.DataFrame({'p1':['A','A','B','B','C','C'],'p2':['G1','G2','G1','G2','G1','G2'],\n",
    "'val_1':np.random.randn(6),'val_2':np.random.randn(6)})\n",
    "print('The Original Data Frame :','\\n=========================\\n',df)\n",
    "group_p1=df.groupby('p1')\n",
    "print('\\n',df['p1'].unique())\n",
    "group_p2=df.groupby('p2')\n",
    "print('\\n',df['p2'].unique())\n",
    "print(\"\\nThe p1 Group's Sum :\",'\\n===============\\n',group_p1.sum())\n",
    "print(\"\\nThe P2 Group's Sum :\",'\\n===============\\n',group_p2.sum())\n",
    "print(\"\\nThe p1 Group's Count :\",'\\n===============\\n',group_p1.count())\n",
    "print(\"\\nThe p1 Group's Count :\",'\\n===============\\n',group_p1.count())"
   ]
  },
  {
   "cell_type": "code",
   "execution_count": 100,
   "id": "a4bb5776",
   "metadata": {},
   "outputs": [
    {
     "name": "stdout",
     "output_type": "stream",
     "text": [
      "The sum of multi group : \n",
      "=====================\n",
      "           val_1     val_2\n",
      "p1 p2                    \n",
      "A  G1 -0.463119 -0.206012\n",
      "   G2 -0.076461  1.075696\n",
      "B  G1 -1.300830  1.310906\n",
      "   G2 -1.584986 -1.115686\n",
      "C  G1  0.309224 -0.332654\n",
      "   G2  0.816866 -0.373077\n"
     ]
    }
   ],
   "source": [
    "multi_group=df.groupby(['p1','p2'])\n",
    "print('The sum of multi group :','\\n=====================\\n',multi_group.sum())"
   ]
  },
  {
   "cell_type": "markdown",
   "id": "3090b634",
   "metadata": {},
   "source": [
    "# Data Aggregation"
   ]
  },
  {
   "cell_type": "code",
   "execution_count": 147,
   "id": "f6e1e9dc",
   "metadata": {},
   "outputs": [
    {
     "name": "stdout",
     "output_type": "stream",
     "text": [
      "   Animal_Type  Legs  Weight  Height  Protein\n",
      "0      Chicken     1      18       5       15\n",
      "1         Goat     3      16       9       14\n",
      "2       Turkey     2      10       4        4\n",
      "3       Turkey     3      11       7        4\n",
      "4      Chicken     2      13      11        8\n",
      "5      Chicken     2      18      11        9\n",
      "6         Duck     2      12       6        3\n",
      "7       Turkey     3      13       9       15\n",
      "8         Goat     2      17      13       14\n",
      "9         Goat     1      15       6       11\n",
      "10     Chicken     1      13       7        7\n",
      "11     Chicken     3      10      10        5\n",
      "12        Duck     2      11       7       13\n",
      "13        Goat     1      14      12        8\n",
      "14        Duck     1      13      12        6\n",
      "15      Turkey     1      15      14       10\n"
     ]
    }
   ],
   "source": [
    "import random\n",
    "pd.set_option('display.max_rows',150)\n",
    "df=pd.DataFrame({'Animal_Type':[random.choice(['Chicken','Duck','Turkey','Goat']) for i in range(16)],\n",
    "                 'Legs':[random.choice(range(1,4)) for i in range(16)],\n",
    "                 'Weight':[random.choice(range(10,20)) for i in range(16)],\n",
    "                 'Height':[random.choice(range(4,15)) for i in range(16)],\n",
    "                 'Protein':[random.choice(range(1,16)) for i in range(16)]\n",
    "                \n",
    "                })\n",
    "print(df)"
   ]
  },
  {
   "cell_type": "code",
   "execution_count": 150,
   "id": "f25fbfe4",
   "metadata": {},
   "outputs": [
    {
     "name": "stdout",
     "output_type": "stream",
     "text": [
      "            Legs         Weight         Height         Protein        \n",
      "             sum max min    sum max min    sum max min     sum max min\n",
      "Animal_Type                                                           \n",
      "Chicken        9   3   1     72  18  10     44  11   5      44  15   5\n",
      "Duck           5   2   1     36  13  11     25  12   6      22  13   3\n",
      "Goat           7   3   1     62  17  14     40  13   6      47  14   8\n",
      "Turkey         9   3   1     49  15  10     34  14   4      33  15   4\n",
      "\n",
      "The mean value of Animal Group:  \n",
      "=============================\n",
      "                  Legs  Weight     Height    Protein\n",
      "Animal_Type                                        \n",
      "Chicken      1.800000   14.40   8.800000   8.800000\n",
      "Duck         1.666667   12.00   8.333333   7.333333\n",
      "Goat         1.750000   15.50  10.000000  11.750000\n",
      "Turkey       2.250000   12.25   8.500000   8.250000\n",
      "\n",
      "The Variance and Standard Deviation of Animal Group:  \n",
      "======================================\n",
      "                  Legs               Weight               Height            \\\n",
      "                  var       std        var       std        var       std   \n",
      "Animal_Type                                                                 \n",
      "Chicken      0.700000  0.836660  12.300000  3.507136   7.200000  2.683282   \n",
      "Duck         0.333333  0.577350   1.000000  1.000000  10.333333  3.214550   \n",
      "Goat         0.916667  0.957427   1.666667  1.290994  10.000000  3.162278   \n",
      "Turkey       0.916667  0.957427   4.916667  2.217356  17.666667  4.203173   \n",
      "\n",
      "               Protein            \n",
      "                   var       std  \n",
      "Animal_Type                       \n",
      "Chicken      14.200000  3.768289  \n",
      "Duck         26.333333  5.131601  \n",
      "Goat          8.250000  2.872281  \n",
      "Turkey       28.250000  5.315073  \n"
     ]
    }
   ],
   "source": [
    "Animal_Farm=df.groupby('Animal_Type')\n",
    "print(Animal_Farm.agg([sum,max,min]))\n",
    "print('\\nThe mean value of Animal Group: ','\\n=============================\\n',Animal_Farm.agg('mean'))\n",
    "print('\\nThe Variance and Standard Deviation of Animal Group: ','\\n======================================\\n',Animal_Farm.agg(['var','std']))"
   ]
  },
  {
   "cell_type": "code",
   "execution_count": 148,
   "id": "7cd8f321",
   "metadata": {},
   "outputs": [
    {
     "name": "stdout",
     "output_type": "stream",
     "text": [
      "             Legs                                            Weight         \\\n",
      "            count  mean       std  min   25%  50%   75%  max  count   mean   \n",
      "Animal_Type                                                                  \n",
      "Chicken       5.0  2.20  1.095445  1.0  1.00  3.0  3.00  3.0    5.0  15.60   \n",
      "Duck          4.0  2.75  0.500000  2.0  2.75  3.0  3.00  3.0    4.0  13.75   \n",
      "Goat          5.0  1.60  0.547723  1.0  1.00  2.0  2.00  2.0    5.0  14.60   \n",
      "Turkey        2.0  2.50  0.707107  2.0  2.25  2.5  2.75  3.0    2.0  14.50   \n",
      "\n",
      "             ... Height       Protein                                          \\\n",
      "             ...    75%   max   count  mean       std  min   25%   50%    75%   \n",
      "Animal_Type  ...                                                                \n",
      "Chicken      ...  12.00  14.0     5.0  10.6  5.594640  4.0  5.00  14.0  15.00   \n",
      "Duck         ...  10.25  14.0     4.0   8.0  5.477226  2.0  4.25   8.0  11.75   \n",
      "Goat         ...  12.00  14.0     5.0   7.0  3.674235  3.0  6.00   6.0   7.00   \n",
      "Turkey       ...   9.25  11.0     2.0   5.5  3.535534  3.0  4.25   5.5   6.75   \n",
      "\n",
      "                   \n",
      "              max  \n",
      "Animal_Type        \n",
      "Chicken      15.0  \n",
      "Duck         14.0  \n",
      "Goat         13.0  \n",
      "Turkey        8.0  \n",
      "\n",
      "[4 rows x 32 columns]\n"
     ]
    }
   ],
   "source": [
    "print(Animal_Farm.describe())"
   ]
  },
  {
   "cell_type": "markdown",
   "id": "ea7f1ec4",
   "metadata": {},
   "source": [
    "# Merge"
   ]
  },
  {
   "cell_type": "code",
   "execution_count": 28,
   "id": "2b10dafe",
   "metadata": {},
   "outputs": [
    {
     "name": "stdout",
     "output_type": "stream",
     "text": [
      "First DataFrame\n",
      "  pointer  value_df1\n",
      "0       A          0\n",
      "1       B          1\n",
      "2       C          2\n",
      "3       B          3\n",
      "4       A          4\n",
      "5       D          5 \n",
      "\n",
      "   pointer  value_df2\n",
      "0       B          6\n",
      "1       C          7\n",
      "2       B          8\n",
      "3       D          9\n",
      "\n",
      "   pointer  value_df1  value_df2\n",
      "0       B          1          6\n",
      "1       B          1          8\n",
      "2       B          3          6\n",
      "3       B          3          8\n",
      "4       C          2          7\n",
      "5       D          5          9\n"
     ]
    }
   ],
   "source": [
    "df1 = pd.DataFrame({'pointer':['A', 'B', 'C', 'B', 'A', 'D'],\n",
    "'value_df1':[0,1,2,3,4,5]})\n",
    "df2=pd.DataFrame({'pointer':['B', 'C', 'B','D'],\n",
    "'value_df2':[6,7,8,9]})\n",
    "print(\"First DataFrame\")\n",
    "print(df1,'\\n\\n',df2)\n",
    "\n",
    "print('\\n',pd.merge(df1, df2)) # Merging two DataFrames"
   ]
  },
  {
   "cell_type": "code",
   "execution_count": 12,
   "id": "2a00b8c4",
   "metadata": {},
   "outputs": [
    {
     "name": "stdout",
     "output_type": "stream",
     "text": [
      "  pointer  value_df1\n",
      "0       A          0\n",
      "1       B          1\n",
      "2       C          2\n",
      "3       B          3\n",
      "4       A          4\n",
      "5       D          5 \n",
      "\n",
      "   pointer  value_df2\n",
      "0       B          6\n",
      "1       C          7\n",
      "2       B          8\n",
      "3       D          9\n",
      "4       E         12\n",
      "Left Merged DataFrame\n",
      "\n",
      "  pointer  value_df1  value_df2\n",
      "0       A          0        NaN\n",
      "1       B          1        6.0\n",
      "2       B          1        8.0\n",
      "3       C          2        7.0\n",
      "4       B          3        6.0\n",
      "5       B          3        8.0\n",
      "6       A          4        NaN\n",
      "7       D          5        9.0\n"
     ]
    }
   ],
   "source": [
    "#LEft Merge\n",
    "df1 = pd.DataFrame({'pointer':['A', 'B', 'C', 'B', 'A', 'D'],\n",
    "'value_df1':[0,1,2,3,4,5]})\n",
    "df2 = pd.DataFrame({'pointer':['B', 'C', 'B', 'D', 'E'],\n",
    "'value_df2':[6, 7, 8, 9, 12]})\n",
    "print(df1,'\\n\\n',df2)\n",
    "print(\"Left Merged DataFrame\\n\")\n",
    "print(pd.merge(df1, df2, how = 'left')) # Performing a left merge"
   ]
  },
  {
   "cell_type": "code",
   "execution_count": 13,
   "id": "fa71c7fc",
   "metadata": {},
   "outputs": [
    {
     "name": "stdout",
     "output_type": "stream",
     "text": [
      "  pointer  value_df1\n",
      "0       A          0\n",
      "1       B          1\n",
      "2       C          2\n",
      "3       B          3\n",
      "4       A          4\n",
      "5       D          5 \n",
      "\n",
      "   pointer  value_df2\n",
      "0       B          6\n",
      "1       Z          7\n",
      "2       C          8\n",
      "3       B          9\n",
      "4       D         10\n",
      "5       E         11\n",
      "Right Merged DataFrame\n",
      "\n",
      "  pointer  value_df1  value_df2\n",
      "0       B        1.0          6\n",
      "1       B        3.0          6\n",
      "2       Z        NaN          7\n",
      "3       C        2.0          8\n",
      "4       B        1.0          9\n",
      "5       B        3.0          9\n",
      "6       D        5.0         10\n",
      "7       E        NaN         11\n"
     ]
    }
   ],
   "source": [
    "#Right Merge\n",
    "df1 = pd.DataFrame({'pointer':['A', 'B', 'C', 'B', 'A', 'D'],\n",
    "'value_df1':[0,1,2,3,4,5]})\n",
    "df2 = pd.DataFrame({'pointer':['B', 'Z', 'C', 'B','D','E'],\n",
    "'value_df2':[6,7,8,9,10,11]})\n",
    "print(df1,'\\n\\n',df2)\n",
    "print(\"Right Merged DataFrame\\n\")\n",
    "print(pd.merge(df1, df2, how = 'right')) # Performing a right merge"
   ]
  },
  {
   "cell_type": "code",
   "execution_count": 15,
   "id": "ea0185cd",
   "metadata": {},
   "outputs": [
    {
     "name": "stdout",
     "output_type": "stream",
     "text": [
      "  column1 column2  value_df1\n",
      "0     Pak       A          0\n",
      "1     USA       B          1\n",
      "2     Pak       C          2\n",
      "3      UK       B          3\n",
      "4     Ind       A          4\n",
      "5    None       D          5 \n",
      "\n",
      "   column1 column2  value_df2\n",
      "0     USA       B          6\n",
      "1      UK       Z          7\n",
      "2    None       C          8\n",
      "3     USA       B          9\n",
      "4     Pak       D         10\n",
      "5     Ind       E         11\n",
      "\n",
      "Outer Merged DataFrame on Multiple Columns\n",
      "\n",
      "   column1 column2  value_df1  value_df2\n",
      "0      Pak       A        0.0        NaN\n",
      "1      USA       B        1.0        6.0\n",
      "2      USA       B        1.0        9.0\n",
      "3      Pak       C        2.0        NaN\n",
      "4       UK       B        3.0        NaN\n",
      "5      Ind       A        4.0        NaN\n",
      "6     None       D        5.0        NaN\n",
      "7       UK       Z        NaN        7.0\n",
      "8     None       C        NaN        8.0\n",
      "9      Pak       D        NaN       10.0\n",
      "10     Ind       E        NaN       11.0\n"
     ]
    }
   ],
   "source": [
    "#Outer Merge\n",
    "df1 = pd.DataFrame({'column1':['Pak', 'USA', 'Pak', 'UK', 'Ind','None'], #Column 1\n",
    "'column2':['A', 'B', 'C', 'B', 'A', 'D'], #Column 2\n",
    "'value_df1':[0,1,2,3,4,5]})\n",
    "print(df1,'\\n\\n',df2)\n",
    "df2 = pd.DataFrame({'column1':['USA', 'UK', 'None', 'USA', 'Pak','Ind'], #Column 1\n",
    "'column2':['B', 'Z', 'C', 'B','D','E'], #Column 2\n",
    "'value_df2':[6,7,8,9,10,11]})\n",
    "print(\"\\nOuter Merged DataFrame on Multiple Columns\\n\")\n",
    "print(pd.merge(df1, df2, on = ['column1', 'column2'], how = 'outer'))"
   ]
  },
  {
   "cell_type": "code",
   "execution_count": 16,
   "id": "7ba3c36e",
   "metadata": {},
   "outputs": [],
   "source": [
    "import numpy as np\n",
    "import matplotlib.pyplot as plt"
   ]
  },
  {
   "cell_type": "code",
   "execution_count": 17,
   "id": "8ff91dbd",
   "metadata": {},
   "outputs": [
    {
     "data": {
      "text/plain": [
       "(array([ 1.,  0.,  2.,  3.,  8., 10., 19., 17., 19., 21., 25., 19., 19.,\n",
       "        19.,  7.,  3.,  3.,  1.,  3.,  1.]),\n",
       " array([-3.03570418, -2.72643938, -2.41717459, -2.10790979, -1.79864499,\n",
       "        -1.48938019, -1.18011539, -0.87085059, -0.56158579, -0.25232099,\n",
       "         0.05694381,  0.36620861,  0.67547341,  0.98473821,  1.29400301,\n",
       "         1.60326781,  1.91253261,  2.22179741,  2.53106221,  2.84032701,\n",
       "         3.14959181]),\n",
       " <BarContainer object of 20 artists>)"
      ]
     },
     "execution_count": 17,
     "metadata": {},
     "output_type": "execute_result"
    },
    {
     "data": {
      "image/png": "[encoded data removed]",
      "text/plain": [
       "<Figure size 432x288 with 1 Axes>"
      ]
     },
     "metadata": {
      "needs_background": "light"
     },
     "output_type": "display_data"
    }
   ],
   "source": [
    "#Histograms\n",
    "set1 = np.random.randn(200) # Generating random data\n",
    "plt.hist(set1, edgecolor='black', color='red', bins=20) # plotting histogram"
   ]
  },
  {
   "cell_type": "code",
   "execution_count": 18,
   "id": "c6aedd6c",
   "metadata": {},
   "outputs": [
    {
     "data": {
      "text/plain": [
       "(array([0.05172065, 0.        , 0.05172065, 0.15516195, 0.28446358,\n",
       "        0.18102228, 0.28446358, 0.46548585, 0.3103239 , 0.33618423,\n",
       "        0.36204455, 0.5172065 , 0.36204455, 0.15516195, 0.07758098,\n",
       "        0.05172065, 0.15516195, 0.02586033, 0.02586033, 0.02586033]),\n",
       " array([-2.50186403, -2.24406886, -1.9862737 , -1.72847854, -1.47068338,\n",
       "        -1.21288822, -0.95509306, -0.6972979 , -0.43950274, -0.18170758,\n",
       "         0.07608758,  0.33388274,  0.5916779 ,  0.84947306,  1.10726822,\n",
       "         1.36506338,  1.62285854,  1.8806537 ,  2.13844886,  2.39624402,\n",
       "         2.65403918]),\n",
       " <BarContainer object of 20 artists>)"
      ]
     },
     "execution_count": 18,
     "metadata": {},
     "output_type": "execute_result"
    },
    {
     "data": {
      "image/png": "[encoded data removed]",
      "text/plain": [
       "<Figure size 432x288 with 1 Axes>"
      ]
     },
     "metadata": {
      "needs_background": "light"
     },
     "output_type": "display_data"
    }
   ],
   "source": [
    "set1 = np.random.randn(200)\n",
    "set2 = np.random.randn(150)\n",
    "# ploting histograms\n",
    "plt.hist(set1, density=True, color='red', alpha=0.6,bins=20)\n",
    "plt.hist(set2, density=True, alpha=0.6,bins=20)"
   ]
  },
  {
   "cell_type": "code",
   "execution_count": 19,
   "id": "84d86400",
   "metadata": {},
   "outputs": [
    {
     "data": {
      "image/png": "[encoded data removed]",
      "text/plain": [
       "<Figure size 360x360 with 1 Axes>"
      ]
     },
     "metadata": {},
     "output_type": "display_data"
    }
   ],
   "source": [
    "#Scatter plot\n",
    "from sklearn.datasets import load_boston\n",
    "import pandas as pd\n",
    "import seaborn as sns\n",
    "import matplotlib.pyplot as plt\n",
    "# Set the palette and style to be more minimal\n",
    "sns.set(style='ticks', palette='Set2')\n",
    "# Load data as explained in introductory lesson\n",
    "boston_data = load_boston()\n",
    "boston_df = pd.DataFrame(boston_data.data, columns=boston_data.feature_names)\n",
    "# Create the scatter plot\n",
    "sns.lmplot(x=\"CRIM\", y=\"NOX\", data=boston_df)\n",
    "# Remove excess chart lines and ticks for a nicer looking plot\n",
    "sns.despine()"
   ]
  },
  {
   "cell_type": "code",
   "execution_count": 20,
   "id": "83451a95",
   "metadata": {},
   "outputs": [
    {
     "name": "stderr",
     "output_type": "stream",
     "text": [
      "D:\\Anaconda\\lib\\site-packages\\seaborn\\_decorators.py:36: FutureWarning: Pass the following variables as keyword args: x, y. From version 0.12, the only valid positional argument will be `data`, and passing other arguments without an explicit keyword will result in an error or misinterpretation.\n",
      "  warnings.warn(\n"
     ]
    },
    {
     "data": {
      "image/png": "[encoded data removed]",
      "text/plain": [
       "<Figure size 432x288 with 1 Axes>"
      ]
     },
     "metadata": {},
     "output_type": "display_data"
    }
   ],
   "source": [
    "#BarPlot\n",
    "from sklearn.datasets import load_boston\n",
    "import pandas as pd\n",
    "import seaborn as sns\n",
    "import matplotlib.pyplot as plt\n",
    "# Set the palette and style to be more minimal\n",
    "sns.set(style='ticks', palette='Set2')\n",
    "# Load data as explained in introductory lesson\n",
    "boston_data = load_boston()\n",
    "boston_df = pd.DataFrame(boston_data.data, columns=boston_data.feature_names)\n",
    "# Only keep for ages 96 and 98.2\n",
    "boston_df = boston_df[boston_df[\"AGE\"].isin([96, 98.2])]\n",
    "# Create the bar plot\n",
    "sns.barplot(boston_df['AGE'], boston_df['NOX'])\n",
    "# Remove excess chart lines and ticks for a nicer looking plot\n",
    "sns.despine()"
   ]
  },
  {
   "cell_type": "code",
   "execution_count": 21,
   "id": "73166fc6",
   "metadata": {},
   "outputs": [
    {
     "name": "stderr",
     "output_type": "stream",
     "text": [
      "D:\\Anaconda\\lib\\site-packages\\seaborn\\distributions.py:2619: FutureWarning: `distplot` is a deprecated function and will be removed in a future version. Please adapt your code to use either `displot` (a figure-level function with similar flexibility) or `histplot` (an axes-level function for histograms).\n",
      "  warnings.warn(msg, FutureWarning)\n"
     ]
    },
    {
     "data": {
      "image/png": "[encoded data removed]",
      "text/plain": [
       "<Figure size 432x288 with 1 Axes>"
      ]
     },
     "metadata": {},
     "output_type": "display_data"
    }
   ],
   "source": [
    "#Histogram\n",
    "from sklearn.datasets import load_boston\n",
    "import pandas as pd\n",
    "import seaborn as sns\n",
    "import matplotlib.pyplot as plt\n",
    "# Set the palette and style to be more minimal\n",
    "sns.set(style='ticks', palette='Set2')\n",
    "# Load data as explained in introductory lesson\n",
    "boston_data = load_boston()\n",
    "boston_df = pd.DataFrame(boston_data.data, columns=boston_data.feature_names)\n",
    "# Create the histogram plot\n",
    "sns.distplot(boston_df.NOX, kde=False)\n",
    "# Remove excess chart lines and ticks for a nicer looking plot\n",
    "sns.despine()"
   ]
  },
  {
   "cell_type": "code",
   "execution_count": 22,
   "id": "6404ca7a",
   "metadata": {},
   "outputs": [
    {
     "data": {
      "image/png": "[encoded data removed]",
      "text/plain": [
       "<Figure size 432x288 with 1 Axes>"
      ]
     },
     "metadata": {},
     "output_type": "display_data"
    }
   ],
   "source": [
    "from sklearn.datasets import load_boston\n",
    "import pandas as pd\n",
    "import seaborn as sns\n",
    "import matplotlib.pyplot as plt\n",
    "# Set the palette and style to be more minimal\n",
    "sns.set(style='ticks', palette='Set2')\n",
    "# Load data as explained in introductory lesson\n",
    "boston_data = load_boston()\n",
    "boston_df = pd.DataFrame(boston_data.data, columns=boston_data.feature_names)\n",
    "# Create the histogram plot\n",
    "sns.distplot(boston_df.NOX, bins=100, kde=False)\n",
    "# Remove excess chart lines and ticks for a nicer looking plot\n",
    "sns.despine()"
   ]
  },
  {
   "cell_type": "code",
   "execution_count": 23,
   "id": "7d88cc43",
   "metadata": {},
   "outputs": [
    {
     "name": "stderr",
     "output_type": "stream",
     "text": [
      "D:\\Anaconda\\lib\\site-packages\\seaborn\\_decorators.py:36: FutureWarning: Pass the following variable as a keyword arg: x. From version 0.12, the only valid positional argument will be `data`, and passing other arguments without an explicit keyword will result in an error or misinterpretation.\n",
      "  warnings.warn(\n"
     ]
    },
    {
     "data": {
      "image/png": "[encoded data removed]",
      "text/plain": [
       "<Figure size 432x288 with 1 Axes>"
      ]
     },
     "metadata": {},
     "output_type": "display_data"
    }
   ],
   "source": [
    "import seaborn as sns\n",
    "set1 = np.random.randn(220) # Generating random data\n",
    "sns1 = sns.boxplot(set1) # plotting box plot"
   ]
  },
  {
   "cell_type": "code",
   "execution_count": 25,
   "id": "bebd5f80",
   "metadata": {},
   "outputs": [
    {
     "data": {
      "image/png": "[encoded data removed]",
      "text/plain": [
       "<Figure size 432x288 with 1 Axes>"
      ]
     },
     "metadata": {},
     "output_type": "display_data"
    }
   ],
   "source": [
    "#Line plot\n",
    "import seaborn as sns # importing seaborn functionality\n",
    "import pandas as pd\n",
    "import matplotlib.pyplot as plt\n",
    "flights_long=sns.load_dataset(\"flights\") # importing dataset\n",
    "# filtering the dataset to obtain the January records for all years\n",
    "flights_long=flights_long[flights_long.month == 'January']\n",
    "#plotting a line graph\n",
    "plot=sns.lineplot(flights_long.year, flights_long.passengers)"
   ]
  },
  {
   "cell_type": "code",
   "execution_count": null,
   "id": "088ea902",
   "metadata": {},
   "outputs": [],
   "source": []
  }
 ],
 "metadata": {
  "kernelspec": {
   "display_name": "Python 3 (ipykernel)",
   "language": "python",
   "name": "python3"
  },
  "language_info": {
   "codemirror_mode": {
    "name": "ipython",
    "version": 3
   },
   "file_extension": ".py",
   "mimetype": "text/x-python",
   "name": "python",
   "nbconvert_exporter": "python",
   "pygments_lexer": "ipython3",
   "version": "3.9.16"
  }
 },
 "nbformat": 4,
 "nbformat_minor": 5
}
